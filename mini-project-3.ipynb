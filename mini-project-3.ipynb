{
 "cells": [
  {
   "cell_type": "code",
   "execution_count": 1,
   "id": "b2a59723",
   "metadata": {},
   "outputs": [],
   "source": [
    "import numpy as np\n",
    "import pandas as pd\n",
    "import seaborn as sns\n",
    "import matplotlib.pyplot as plt"
   ]
  },
  {
   "cell_type": "code",
   "execution_count": 2,
   "id": "0fa2232b",
   "metadata": {},
   "outputs": [],
   "source": [
    "df=pd.read_csv('zomato.csv')"
   ]
  },
  {
   "cell_type": "code",
   "execution_count": 3,
   "id": "abf0e113",
   "metadata": {},
   "outputs": [
    {
     "data": {
      "text/plain": [
       "(51717, 17)"
      ]
     },
     "execution_count": 3,
     "metadata": {},
     "output_type": "execute_result"
    }
   ],
   "source": [
    "df.shape"
   ]
  },
  {
   "cell_type": "code",
   "execution_count": 399,
   "id": "fc199a81",
   "metadata": {},
   "outputs": [
    {
     "data": {
      "text/html": [
       "<div>\n",
       "<style scoped>\n",
       "    .dataframe tbody tr th:only-of-type {\n",
       "        vertical-align: middle;\n",
       "    }\n",
       "\n",
       "    .dataframe tbody tr th {\n",
       "        vertical-align: top;\n",
       "    }\n",
       "\n",
       "    .dataframe thead th {\n",
       "        text-align: right;\n",
       "    }\n",
       "</style>\n",
       "<table border=\"1\" class=\"dataframe\">\n",
       "  <thead>\n",
       "    <tr style=\"text-align: right;\">\n",
       "      <th></th>\n",
       "      <th>url</th>\n",
       "      <th>address</th>\n",
       "      <th>name</th>\n",
       "      <th>online_order</th>\n",
       "      <th>book_table</th>\n",
       "      <th>rate</th>\n",
       "      <th>votes</th>\n",
       "      <th>phone</th>\n",
       "      <th>location</th>\n",
       "      <th>rest_type</th>\n",
       "      <th>dish_liked</th>\n",
       "      <th>cuisines</th>\n",
       "      <th>approx_cost(for two people)</th>\n",
       "      <th>reviews_list</th>\n",
       "      <th>menu_item</th>\n",
       "      <th>listed_in(type)</th>\n",
       "      <th>listed_in(city)</th>\n",
       "    </tr>\n",
       "  </thead>\n",
       "  <tbody>\n",
       "    <tr>\n",
       "      <th>0</th>\n",
       "      <td>https://www.zomato.com/bangalore/jalsa-banasha...</td>\n",
       "      <td>942, 21st Main Road, 2nd Stage, Banashankari, ...</td>\n",
       "      <td>Jalsa</td>\n",
       "      <td>Yes</td>\n",
       "      <td>Yes</td>\n",
       "      <td>4.1/5</td>\n",
       "      <td>775</td>\n",
       "      <td>080 42297555\\r\\n+91 9743772233</td>\n",
       "      <td>Banashankari</td>\n",
       "      <td>Casual Dining</td>\n",
       "      <td>Pasta, Lunch Buffet, Masala Papad, Paneer Laja...</td>\n",
       "      <td>North Indian, Mughlai, Chinese</td>\n",
       "      <td>800</td>\n",
       "      <td>[('Rated 4.0', 'RATED\\n  A beautiful place to ...</td>\n",
       "      <td>[]</td>\n",
       "      <td>Buffet</td>\n",
       "      <td>Banashankari</td>\n",
       "    </tr>\n",
       "    <tr>\n",
       "      <th>1</th>\n",
       "      <td>https://www.zomato.com/bangalore/spice-elephan...</td>\n",
       "      <td>2nd Floor, 80 Feet Road, Near Big Bazaar, 6th ...</td>\n",
       "      <td>Spice Elephant</td>\n",
       "      <td>Yes</td>\n",
       "      <td>No</td>\n",
       "      <td>4.1/5</td>\n",
       "      <td>787</td>\n",
       "      <td>080 41714161</td>\n",
       "      <td>Banashankari</td>\n",
       "      <td>Casual Dining</td>\n",
       "      <td>Momos, Lunch Buffet, Chocolate Nirvana, Thai G...</td>\n",
       "      <td>Chinese, North Indian, Thai</td>\n",
       "      <td>800</td>\n",
       "      <td>[('Rated 4.0', 'RATED\\n  Had been here for din...</td>\n",
       "      <td>[]</td>\n",
       "      <td>Buffet</td>\n",
       "      <td>Banashankari</td>\n",
       "    </tr>\n",
       "    <tr>\n",
       "      <th>2</th>\n",
       "      <td>https://www.zomato.com/SanchurroBangalore?cont...</td>\n",
       "      <td>1112, Next to KIMS Medical College, 17th Cross...</td>\n",
       "      <td>San Churro Cafe</td>\n",
       "      <td>Yes</td>\n",
       "      <td>No</td>\n",
       "      <td>3.8/5</td>\n",
       "      <td>918</td>\n",
       "      <td>+91 9663487993</td>\n",
       "      <td>Banashankari</td>\n",
       "      <td>Cafe, Casual Dining</td>\n",
       "      <td>Churros, Cannelloni, Minestrone Soup, Hot Choc...</td>\n",
       "      <td>Cafe, Mexican, Italian</td>\n",
       "      <td>800</td>\n",
       "      <td>[('Rated 3.0', \"RATED\\n  Ambience is not that ...</td>\n",
       "      <td>[]</td>\n",
       "      <td>Buffet</td>\n",
       "      <td>Banashankari</td>\n",
       "    </tr>\n",
       "    <tr>\n",
       "      <th>3</th>\n",
       "      <td>https://www.zomato.com/bangalore/addhuri-udupi...</td>\n",
       "      <td>1st Floor, Annakuteera, 3rd Stage, Banashankar...</td>\n",
       "      <td>Addhuri Udupi Bhojana</td>\n",
       "      <td>No</td>\n",
       "      <td>No</td>\n",
       "      <td>3.7/5</td>\n",
       "      <td>88</td>\n",
       "      <td>+91 9620009302</td>\n",
       "      <td>Banashankari</td>\n",
       "      <td>Quick Bites</td>\n",
       "      <td>Masala Dosa</td>\n",
       "      <td>South Indian, North Indian</td>\n",
       "      <td>300</td>\n",
       "      <td>[('Rated 4.0', \"RATED\\n  Great food and proper...</td>\n",
       "      <td>[]</td>\n",
       "      <td>Buffet</td>\n",
       "      <td>Banashankari</td>\n",
       "    </tr>\n",
       "    <tr>\n",
       "      <th>4</th>\n",
       "      <td>https://www.zomato.com/bangalore/grand-village...</td>\n",
       "      <td>10, 3rd Floor, Lakshmi Associates, Gandhi Baza...</td>\n",
       "      <td>Grand Village</td>\n",
       "      <td>No</td>\n",
       "      <td>No</td>\n",
       "      <td>3.8/5</td>\n",
       "      <td>166</td>\n",
       "      <td>+91 8026612447\\r\\n+91 9901210005</td>\n",
       "      <td>Basavanagudi</td>\n",
       "      <td>Casual Dining</td>\n",
       "      <td>Panipuri, Gol Gappe</td>\n",
       "      <td>North Indian, Rajasthani</td>\n",
       "      <td>600</td>\n",
       "      <td>[('Rated 4.0', 'RATED\\n  Very good restaurant ...</td>\n",
       "      <td>[]</td>\n",
       "      <td>Buffet</td>\n",
       "      <td>Banashankari</td>\n",
       "    </tr>\n",
       "  </tbody>\n",
       "</table>\n",
       "</div>"
      ],
      "text/plain": [
       "                                                 url  \\\n",
       "0  https://www.zomato.com/bangalore/jalsa-banasha...   \n",
       "1  https://www.zomato.com/bangalore/spice-elephan...   \n",
       "2  https://www.zomato.com/SanchurroBangalore?cont...   \n",
       "3  https://www.zomato.com/bangalore/addhuri-udupi...   \n",
       "4  https://www.zomato.com/bangalore/grand-village...   \n",
       "\n",
       "                                             address                   name  \\\n",
       "0  942, 21st Main Road, 2nd Stage, Banashankari, ...                  Jalsa   \n",
       "1  2nd Floor, 80 Feet Road, Near Big Bazaar, 6th ...         Spice Elephant   \n",
       "2  1112, Next to KIMS Medical College, 17th Cross...        San Churro Cafe   \n",
       "3  1st Floor, Annakuteera, 3rd Stage, Banashankar...  Addhuri Udupi Bhojana   \n",
       "4  10, 3rd Floor, Lakshmi Associates, Gandhi Baza...          Grand Village   \n",
       "\n",
       "  online_order book_table   rate  votes                             phone  \\\n",
       "0          Yes        Yes  4.1/5    775    080 42297555\\r\\n+91 9743772233   \n",
       "1          Yes         No  4.1/5    787                      080 41714161   \n",
       "2          Yes         No  3.8/5    918                    +91 9663487993   \n",
       "3           No         No  3.7/5     88                    +91 9620009302   \n",
       "4           No         No  3.8/5    166  +91 8026612447\\r\\n+91 9901210005   \n",
       "\n",
       "       location            rest_type  \\\n",
       "0  Banashankari        Casual Dining   \n",
       "1  Banashankari        Casual Dining   \n",
       "2  Banashankari  Cafe, Casual Dining   \n",
       "3  Banashankari          Quick Bites   \n",
       "4  Basavanagudi        Casual Dining   \n",
       "\n",
       "                                          dish_liked  \\\n",
       "0  Pasta, Lunch Buffet, Masala Papad, Paneer Laja...   \n",
       "1  Momos, Lunch Buffet, Chocolate Nirvana, Thai G...   \n",
       "2  Churros, Cannelloni, Minestrone Soup, Hot Choc...   \n",
       "3                                        Masala Dosa   \n",
       "4                                Panipuri, Gol Gappe   \n",
       "\n",
       "                         cuisines approx_cost(for two people)  \\\n",
       "0  North Indian, Mughlai, Chinese                         800   \n",
       "1     Chinese, North Indian, Thai                         800   \n",
       "2          Cafe, Mexican, Italian                         800   \n",
       "3      South Indian, North Indian                         300   \n",
       "4        North Indian, Rajasthani                         600   \n",
       "\n",
       "                                        reviews_list menu_item  \\\n",
       "0  [('Rated 4.0', 'RATED\\n  A beautiful place to ...        []   \n",
       "1  [('Rated 4.0', 'RATED\\n  Had been here for din...        []   \n",
       "2  [('Rated 3.0', \"RATED\\n  Ambience is not that ...        []   \n",
       "3  [('Rated 4.0', \"RATED\\n  Great food and proper...        []   \n",
       "4  [('Rated 4.0', 'RATED\\n  Very good restaurant ...        []   \n",
       "\n",
       "  listed_in(type) listed_in(city)  \n",
       "0          Buffet    Banashankari  \n",
       "1          Buffet    Banashankari  \n",
       "2          Buffet    Banashankari  \n",
       "3          Buffet    Banashankari  \n",
       "4          Buffet    Banashankari  "
      ]
     },
     "execution_count": 399,
     "metadata": {},
     "output_type": "execute_result"
    }
   ],
   "source": [
    "df.head()"
   ]
  },
  {
   "cell_type": "code",
   "execution_count": 400,
   "id": "9d9c895b",
   "metadata": {},
   "outputs": [
    {
     "data": {
      "text/html": [
       "<div>\n",
       "<style scoped>\n",
       "    .dataframe tbody tr th:only-of-type {\n",
       "        vertical-align: middle;\n",
       "    }\n",
       "\n",
       "    .dataframe tbody tr th {\n",
       "        vertical-align: top;\n",
       "    }\n",
       "\n",
       "    .dataframe thead th {\n",
       "        text-align: right;\n",
       "    }\n",
       "</style>\n",
       "<table border=\"1\" class=\"dataframe\">\n",
       "  <thead>\n",
       "    <tr style=\"text-align: right;\">\n",
       "      <th></th>\n",
       "      <th>url</th>\n",
       "      <th>address</th>\n",
       "      <th>name</th>\n",
       "      <th>online_order</th>\n",
       "      <th>book_table</th>\n",
       "      <th>rate</th>\n",
       "      <th>votes</th>\n",
       "      <th>phone</th>\n",
       "      <th>location</th>\n",
       "      <th>rest_type</th>\n",
       "      <th>dish_liked</th>\n",
       "      <th>cuisines</th>\n",
       "      <th>approx_cost(for two people)</th>\n",
       "      <th>reviews_list</th>\n",
       "      <th>menu_item</th>\n",
       "      <th>listed_in(type)</th>\n",
       "      <th>listed_in(city)</th>\n",
       "    </tr>\n",
       "  </thead>\n",
       "  <tbody>\n",
       "  </tbody>\n",
       "</table>\n",
       "</div>"
      ],
      "text/plain": [
       "Empty DataFrame\n",
       "Columns: [url, address, name, online_order, book_table, rate, votes, phone, location, rest_type, dish_liked, cuisines, approx_cost(for two people), reviews_list, menu_item, listed_in(type), listed_in(city)]\n",
       "Index: []"
      ]
     },
     "execution_count": 400,
     "metadata": {},
     "output_type": "execute_result"
    }
   ],
   "source": [
    "df[df.duplicated(subset=[\"url\",'name'])]\n",
    "#no duplicates"
   ]
  },
  {
   "cell_type": "code",
   "execution_count": 401,
   "id": "c8469fe9",
   "metadata": {},
   "outputs": [],
   "source": [
    "# removing unwanted coumns\n",
    "df.drop(['url','address','phone','name','reviews_list',\"menu_item\"],axis=1,inplace=True)"
   ]
  },
  {
   "cell_type": "code",
   "execution_count": 402,
   "id": "267109db",
   "metadata": {},
   "outputs": [
    {
     "data": {
      "text/html": [
       "<div>\n",
       "<style scoped>\n",
       "    .dataframe tbody tr th:only-of-type {\n",
       "        vertical-align: middle;\n",
       "    }\n",
       "\n",
       "    .dataframe tbody tr th {\n",
       "        vertical-align: top;\n",
       "    }\n",
       "\n",
       "    .dataframe thead th {\n",
       "        text-align: right;\n",
       "    }\n",
       "</style>\n",
       "<table border=\"1\" class=\"dataframe\">\n",
       "  <thead>\n",
       "    <tr style=\"text-align: right;\">\n",
       "      <th></th>\n",
       "      <th>online_order</th>\n",
       "      <th>book_table</th>\n",
       "      <th>rate</th>\n",
       "      <th>votes</th>\n",
       "      <th>location</th>\n",
       "      <th>rest_type</th>\n",
       "      <th>dish_liked</th>\n",
       "      <th>cuisines</th>\n",
       "      <th>approx_cost(for two people)</th>\n",
       "      <th>listed_in(type)</th>\n",
       "      <th>listed_in(city)</th>\n",
       "    </tr>\n",
       "  </thead>\n",
       "  <tbody>\n",
       "    <tr>\n",
       "      <th>0</th>\n",
       "      <td>Yes</td>\n",
       "      <td>Yes</td>\n",
       "      <td>4.1/5</td>\n",
       "      <td>775</td>\n",
       "      <td>Banashankari</td>\n",
       "      <td>Casual Dining</td>\n",
       "      <td>Pasta, Lunch Buffet, Masala Papad, Paneer Laja...</td>\n",
       "      <td>North Indian, Mughlai, Chinese</td>\n",
       "      <td>800</td>\n",
       "      <td>Buffet</td>\n",
       "      <td>Banashankari</td>\n",
       "    </tr>\n",
       "    <tr>\n",
       "      <th>1</th>\n",
       "      <td>Yes</td>\n",
       "      <td>No</td>\n",
       "      <td>4.1/5</td>\n",
       "      <td>787</td>\n",
       "      <td>Banashankari</td>\n",
       "      <td>Casual Dining</td>\n",
       "      <td>Momos, Lunch Buffet, Chocolate Nirvana, Thai G...</td>\n",
       "      <td>Chinese, North Indian, Thai</td>\n",
       "      <td>800</td>\n",
       "      <td>Buffet</td>\n",
       "      <td>Banashankari</td>\n",
       "    </tr>\n",
       "    <tr>\n",
       "      <th>2</th>\n",
       "      <td>Yes</td>\n",
       "      <td>No</td>\n",
       "      <td>3.8/5</td>\n",
       "      <td>918</td>\n",
       "      <td>Banashankari</td>\n",
       "      <td>Cafe, Casual Dining</td>\n",
       "      <td>Churros, Cannelloni, Minestrone Soup, Hot Choc...</td>\n",
       "      <td>Cafe, Mexican, Italian</td>\n",
       "      <td>800</td>\n",
       "      <td>Buffet</td>\n",
       "      <td>Banashankari</td>\n",
       "    </tr>\n",
       "    <tr>\n",
       "      <th>3</th>\n",
       "      <td>No</td>\n",
       "      <td>No</td>\n",
       "      <td>3.7/5</td>\n",
       "      <td>88</td>\n",
       "      <td>Banashankari</td>\n",
       "      <td>Quick Bites</td>\n",
       "      <td>Masala Dosa</td>\n",
       "      <td>South Indian, North Indian</td>\n",
       "      <td>300</td>\n",
       "      <td>Buffet</td>\n",
       "      <td>Banashankari</td>\n",
       "    </tr>\n",
       "    <tr>\n",
       "      <th>4</th>\n",
       "      <td>No</td>\n",
       "      <td>No</td>\n",
       "      <td>3.8/5</td>\n",
       "      <td>166</td>\n",
       "      <td>Basavanagudi</td>\n",
       "      <td>Casual Dining</td>\n",
       "      <td>Panipuri, Gol Gappe</td>\n",
       "      <td>North Indian, Rajasthani</td>\n",
       "      <td>600</td>\n",
       "      <td>Buffet</td>\n",
       "      <td>Banashankari</td>\n",
       "    </tr>\n",
       "  </tbody>\n",
       "</table>\n",
       "</div>"
      ],
      "text/plain": [
       "  online_order book_table   rate  votes      location            rest_type  \\\n",
       "0          Yes        Yes  4.1/5    775  Banashankari        Casual Dining   \n",
       "1          Yes         No  4.1/5    787  Banashankari        Casual Dining   \n",
       "2          Yes         No  3.8/5    918  Banashankari  Cafe, Casual Dining   \n",
       "3           No         No  3.7/5     88  Banashankari          Quick Bites   \n",
       "4           No         No  3.8/5    166  Basavanagudi        Casual Dining   \n",
       "\n",
       "                                          dish_liked  \\\n",
       "0  Pasta, Lunch Buffet, Masala Papad, Paneer Laja...   \n",
       "1  Momos, Lunch Buffet, Chocolate Nirvana, Thai G...   \n",
       "2  Churros, Cannelloni, Minestrone Soup, Hot Choc...   \n",
       "3                                        Masala Dosa   \n",
       "4                                Panipuri, Gol Gappe   \n",
       "\n",
       "                         cuisines approx_cost(for two people) listed_in(type)  \\\n",
       "0  North Indian, Mughlai, Chinese                         800          Buffet   \n",
       "1     Chinese, North Indian, Thai                         800          Buffet   \n",
       "2          Cafe, Mexican, Italian                         800          Buffet   \n",
       "3      South Indian, North Indian                         300          Buffet   \n",
       "4        North Indian, Rajasthani                         600          Buffet   \n",
       "\n",
       "  listed_in(city)  \n",
       "0    Banashankari  \n",
       "1    Banashankari  \n",
       "2    Banashankari  \n",
       "3    Banashankari  \n",
       "4    Banashankari  "
      ]
     },
     "execution_count": 402,
     "metadata": {},
     "output_type": "execute_result"
    }
   ],
   "source": [
    "#Step 2: Read the data, and convert the data types.\n",
    "df.head()"
   ]
  },
  {
   "cell_type": "code",
   "execution_count": 403,
   "id": "8244c90c",
   "metadata": {},
   "outputs": [
    {
     "name": "stdout",
     "output_type": "stream",
     "text": [
      "<class 'pandas.core.frame.DataFrame'>\n",
      "RangeIndex: 51717 entries, 0 to 51716\n",
      "Data columns (total 11 columns):\n",
      " #   Column                       Non-Null Count  Dtype \n",
      "---  ------                       --------------  ----- \n",
      " 0   online_order                 51717 non-null  object\n",
      " 1   book_table                   51717 non-null  object\n",
      " 2   rate                         43942 non-null  object\n",
      " 3   votes                        51717 non-null  int64 \n",
      " 4   location                     51696 non-null  object\n",
      " 5   rest_type                    51490 non-null  object\n",
      " 6   dish_liked                   23639 non-null  object\n",
      " 7   cuisines                     51672 non-null  object\n",
      " 8   approx_cost(for two people)  51371 non-null  object\n",
      " 9   listed_in(type)              51717 non-null  object\n",
      " 10  listed_in(city)              51717 non-null  object\n",
      "dtypes: int64(1), object(10)\n",
      "memory usage: 4.3+ MB\n"
     ]
    }
   ],
   "source": [
    "df.info()"
   ]
  },
  {
   "cell_type": "markdown",
   "id": "d5a48f05",
   "metadata": {},
   "source": [
    "Data cleaning"
   ]
  },
  {
   "cell_type": "code",
   "execution_count": null,
   "id": "ed6fdacb",
   "metadata": {},
   "outputs": [],
   "source": [
    "# Step 3: Perform the described method for the data, Try to find any essential points from the\n",
    "# described analysis. And check the missing values and Duplicate records. Impute the\n",
    "# missing values in the best way possible.\n"
   ]
  },
  {
   "cell_type": "code",
   "execution_count": 404,
   "id": "19c5538b",
   "metadata": {},
   "outputs": [
    {
     "data": {
      "text/plain": [
       "array(['4.1/5', '3.8/5', '3.7/5', '3.6/5', '4.6/5', '4.0/5', '4.2/5',\n",
       "       '3.9/5', '3.1/5', '3.0/5', '3.2/5', '3.3/5', '2.8/5', '4.4/5',\n",
       "       '4.3/5', 'NEW', '2.9/5', '3.5/5', nan, '2.6/5', '3.8 /5', '3.4/5',\n",
       "       '4.5/5', '2.5/5', '2.7/5', '4.7/5', '2.4/5', '2.2/5', '2.3/5',\n",
       "       '3.4 /5', '-', '3.6 /5', '4.8/5', '3.9 /5', '4.2 /5', '4.0 /5',\n",
       "       '4.1 /5', '3.7 /5', '3.1 /5', '2.9 /5', '3.3 /5', '2.8 /5',\n",
       "       '3.5 /5', '2.7 /5', '2.5 /5', '3.2 /5', '2.6 /5', '4.5 /5',\n",
       "       '4.3 /5', '4.4 /5', '4.9/5', '2.1/5', '2.0/5', '1.8/5', '4.6 /5',\n",
       "       '4.9 /5', '3.0 /5', '4.8 /5', '2.3 /5', '4.7 /5', '2.4 /5',\n",
       "       '2.1 /5', '2.2 /5', '2.0 /5', '1.8 /5'], dtype=object)"
      ]
     },
     "execution_count": 404,
     "metadata": {},
     "output_type": "execute_result"
    }
   ],
   "source": [
    "df['rate'].unique()"
   ]
  },
  {
   "cell_type": "code",
   "execution_count": 405,
   "id": "28e43c4d",
   "metadata": {},
   "outputs": [],
   "source": [
    "df['rate']=df['rate'].map(lambda x:  x.split('/')[0] if type(x)==str else x)"
   ]
  },
  {
   "cell_type": "code",
   "execution_count": 406,
   "id": "1f286b40",
   "metadata": {
    "scrolled": false
   },
   "outputs": [
    {
     "name": "stdout",
     "output_type": "stream",
     "text": [
      "2208\n"
     ]
    },
    {
     "data": {
      "text/html": [
       "<div>\n",
       "<style scoped>\n",
       "    .dataframe tbody tr th:only-of-type {\n",
       "        vertical-align: middle;\n",
       "    }\n",
       "\n",
       "    .dataframe tbody tr th {\n",
       "        vertical-align: top;\n",
       "    }\n",
       "\n",
       "    .dataframe thead th {\n",
       "        text-align: right;\n",
       "    }\n",
       "</style>\n",
       "<table border=\"1\" class=\"dataframe\">\n",
       "  <thead>\n",
       "    <tr style=\"text-align: right;\">\n",
       "      <th></th>\n",
       "      <th>online_order</th>\n",
       "      <th>book_table</th>\n",
       "      <th>rate</th>\n",
       "      <th>votes</th>\n",
       "      <th>location</th>\n",
       "      <th>rest_type</th>\n",
       "      <th>dish_liked</th>\n",
       "      <th>cuisines</th>\n",
       "      <th>approx_cost(for two people)</th>\n",
       "      <th>listed_in(type)</th>\n",
       "      <th>listed_in(city)</th>\n",
       "    </tr>\n",
       "  </thead>\n",
       "  <tbody>\n",
       "    <tr>\n",
       "      <th>72</th>\n",
       "      <td>No</td>\n",
       "      <td>No</td>\n",
       "      <td>NEW</td>\n",
       "      <td>0</td>\n",
       "      <td>Banashankari</td>\n",
       "      <td>Quick Bites</td>\n",
       "      <td>NaN</td>\n",
       "      <td>North Indian</td>\n",
       "      <td>150</td>\n",
       "      <td>Delivery</td>\n",
       "      <td>Banashankari</td>\n",
       "    </tr>\n",
       "    <tr>\n",
       "      <th>75</th>\n",
       "      <td>No</td>\n",
       "      <td>No</td>\n",
       "      <td>NEW</td>\n",
       "      <td>0</td>\n",
       "      <td>Banashankari</td>\n",
       "      <td>Takeaway, Delivery</td>\n",
       "      <td>NaN</td>\n",
       "      <td>Street Food, Fast Food</td>\n",
       "      <td>500</td>\n",
       "      <td>Delivery</td>\n",
       "      <td>Banashankari</td>\n",
       "    </tr>\n",
       "    <tr>\n",
       "      <th>110</th>\n",
       "      <td>No</td>\n",
       "      <td>No</td>\n",
       "      <td>NEW</td>\n",
       "      <td>0</td>\n",
       "      <td>Banashankari</td>\n",
       "      <td>Takeaway, Delivery</td>\n",
       "      <td>NaN</td>\n",
       "      <td>Sandwich, Pizza, Beverages</td>\n",
       "      <td>200</td>\n",
       "      <td>Delivery</td>\n",
       "      <td>Banashankari</td>\n",
       "    </tr>\n",
       "    <tr>\n",
       "      <th>130</th>\n",
       "      <td>No</td>\n",
       "      <td>No</td>\n",
       "      <td>NEW</td>\n",
       "      <td>0</td>\n",
       "      <td>Banashankari</td>\n",
       "      <td>Takeaway, Delivery</td>\n",
       "      <td>NaN</td>\n",
       "      <td>Biryani, Rolls, Chinese</td>\n",
       "      <td>200</td>\n",
       "      <td>Delivery</td>\n",
       "      <td>Banashankari</td>\n",
       "    </tr>\n",
       "    <tr>\n",
       "      <th>131</th>\n",
       "      <td>No</td>\n",
       "      <td>No</td>\n",
       "      <td>NEW</td>\n",
       "      <td>0</td>\n",
       "      <td>Banashankari</td>\n",
       "      <td>Quick Bites</td>\n",
       "      <td>NaN</td>\n",
       "      <td>North Indian</td>\n",
       "      <td>100</td>\n",
       "      <td>Delivery</td>\n",
       "      <td>Banashankari</td>\n",
       "    </tr>\n",
       "  </tbody>\n",
       "</table>\n",
       "</div>"
      ],
      "text/plain": [
       "    online_order book_table rate  votes      location           rest_type  \\\n",
       "72            No         No  NEW      0  Banashankari         Quick Bites   \n",
       "75            No         No  NEW      0  Banashankari  Takeaway, Delivery   \n",
       "110           No         No  NEW      0  Banashankari  Takeaway, Delivery   \n",
       "130           No         No  NEW      0  Banashankari  Takeaway, Delivery   \n",
       "131           No         No  NEW      0  Banashankari         Quick Bites   \n",
       "\n",
       "    dish_liked                    cuisines approx_cost(for two people)  \\\n",
       "72         NaN                North Indian                         150   \n",
       "75         NaN      Street Food, Fast Food                         500   \n",
       "110        NaN  Sandwich, Pizza, Beverages                         200   \n",
       "130        NaN     Biryani, Rolls, Chinese                         200   \n",
       "131        NaN                North Indian                         100   \n",
       "\n",
       "    listed_in(type) listed_in(city)  \n",
       "72         Delivery    Banashankari  \n",
       "75         Delivery    Banashankari  \n",
       "110        Delivery    Banashankari  \n",
       "130        Delivery    Banashankari  \n",
       "131        Delivery    Banashankari  "
      ]
     },
     "metadata": {},
     "output_type": "display_data"
    }
   ],
   "source": [
    "print(len(df[df['rate']=='NEW']))\n",
    "display(df[df['rate']=='NEW'].head())\n",
    "# there are 2208 new restaurants which doesnt have any rating and votes since we are building model to assist new restaurants\n",
    "#it s better to drop these retaurants which will not give any info to establish new restaurants\n",
    "df.drop(index=df[df['rate']=='NEW'].index,axis=0,inplace=True)"
   ]
  },
  {
   "cell_type": "code",
   "execution_count": 407,
   "id": "1ce8ea92",
   "metadata": {},
   "outputs": [],
   "source": [
    "df[df['rate']=='-']\n",
    "df.drop(index=df[df['rate']=='-'].index,inplace=True)"
   ]
  },
  {
   "cell_type": "code",
   "execution_count": 408,
   "id": "69eab513",
   "metadata": {},
   "outputs": [],
   "source": [
    "df['rate']=df['rate'].astype(float)"
   ]
  },
  {
   "cell_type": "code",
   "execution_count": 409,
   "id": "11f6bafe",
   "metadata": {},
   "outputs": [],
   "source": [
    "df.reset_index(drop=True,inplace=True)"
   ]
  },
  {
   "cell_type": "code",
   "execution_count": 410,
   "id": "7d734730",
   "metadata": {},
   "outputs": [],
   "source": [
    "#approx_cost for two\n",
    "df['approx_cost(for two people)']=df['approx_cost(for two people)'].str.replace(',','')\n",
    "df['approx_cost(for two people)']=df['approx_cost(for two people)'].astype(float)"
   ]
  },
  {
   "cell_type": "code",
   "execution_count": 411,
   "id": "261bcfb5",
   "metadata": {},
   "outputs": [
    {
     "data": {
      "text/html": [
       "<div>\n",
       "<style scoped>\n",
       "    .dataframe tbody tr th:only-of-type {\n",
       "        vertical-align: middle;\n",
       "    }\n",
       "\n",
       "    .dataframe tbody tr th {\n",
       "        vertical-align: top;\n",
       "    }\n",
       "\n",
       "    .dataframe thead th {\n",
       "        text-align: right;\n",
       "    }\n",
       "</style>\n",
       "<table border=\"1\" class=\"dataframe\">\n",
       "  <thead>\n",
       "    <tr style=\"text-align: right;\">\n",
       "      <th></th>\n",
       "      <th>online_order</th>\n",
       "      <th>book_table</th>\n",
       "      <th>rate</th>\n",
       "      <th>votes</th>\n",
       "      <th>location</th>\n",
       "      <th>rest_type</th>\n",
       "      <th>dish_liked</th>\n",
       "      <th>cuisines</th>\n",
       "      <th>approx_cost(for two people)</th>\n",
       "      <th>listed_in(type)</th>\n",
       "      <th>listed_in(city)</th>\n",
       "    </tr>\n",
       "  </thead>\n",
       "  <tbody>\n",
       "    <tr>\n",
       "      <th>0</th>\n",
       "      <td>Yes</td>\n",
       "      <td>Yes</td>\n",
       "      <td>4.1</td>\n",
       "      <td>775</td>\n",
       "      <td>Banashankari</td>\n",
       "      <td>Casual Dining</td>\n",
       "      <td>Pasta, Lunch Buffet, Masala Papad, Paneer Laja...</td>\n",
       "      <td>North Indian, Mughlai, Chinese</td>\n",
       "      <td>800.0</td>\n",
       "      <td>Buffet</td>\n",
       "      <td>Banashankari</td>\n",
       "    </tr>\n",
       "    <tr>\n",
       "      <th>1</th>\n",
       "      <td>Yes</td>\n",
       "      <td>No</td>\n",
       "      <td>4.1</td>\n",
       "      <td>787</td>\n",
       "      <td>Banashankari</td>\n",
       "      <td>Casual Dining</td>\n",
       "      <td>Momos, Lunch Buffet, Chocolate Nirvana, Thai G...</td>\n",
       "      <td>Chinese, North Indian, Thai</td>\n",
       "      <td>800.0</td>\n",
       "      <td>Buffet</td>\n",
       "      <td>Banashankari</td>\n",
       "    </tr>\n",
       "    <tr>\n",
       "      <th>2</th>\n",
       "      <td>Yes</td>\n",
       "      <td>No</td>\n",
       "      <td>3.8</td>\n",
       "      <td>918</td>\n",
       "      <td>Banashankari</td>\n",
       "      <td>Cafe, Casual Dining</td>\n",
       "      <td>Churros, Cannelloni, Minestrone Soup, Hot Choc...</td>\n",
       "      <td>Cafe, Mexican, Italian</td>\n",
       "      <td>800.0</td>\n",
       "      <td>Buffet</td>\n",
       "      <td>Banashankari</td>\n",
       "    </tr>\n",
       "    <tr>\n",
       "      <th>3</th>\n",
       "      <td>No</td>\n",
       "      <td>No</td>\n",
       "      <td>3.7</td>\n",
       "      <td>88</td>\n",
       "      <td>Banashankari</td>\n",
       "      <td>Quick Bites</td>\n",
       "      <td>Masala Dosa</td>\n",
       "      <td>South Indian, North Indian</td>\n",
       "      <td>300.0</td>\n",
       "      <td>Buffet</td>\n",
       "      <td>Banashankari</td>\n",
       "    </tr>\n",
       "    <tr>\n",
       "      <th>4</th>\n",
       "      <td>No</td>\n",
       "      <td>No</td>\n",
       "      <td>3.8</td>\n",
       "      <td>166</td>\n",
       "      <td>Basavanagudi</td>\n",
       "      <td>Casual Dining</td>\n",
       "      <td>Panipuri, Gol Gappe</td>\n",
       "      <td>North Indian, Rajasthani</td>\n",
       "      <td>600.0</td>\n",
       "      <td>Buffet</td>\n",
       "      <td>Banashankari</td>\n",
       "    </tr>\n",
       "  </tbody>\n",
       "</table>\n",
       "</div>"
      ],
      "text/plain": [
       "  online_order book_table  rate  votes      location            rest_type  \\\n",
       "0          Yes        Yes   4.1    775  Banashankari        Casual Dining   \n",
       "1          Yes         No   4.1    787  Banashankari        Casual Dining   \n",
       "2          Yes         No   3.8    918  Banashankari  Cafe, Casual Dining   \n",
       "3           No         No   3.7     88  Banashankari          Quick Bites   \n",
       "4           No         No   3.8    166  Basavanagudi        Casual Dining   \n",
       "\n",
       "                                          dish_liked  \\\n",
       "0  Pasta, Lunch Buffet, Masala Papad, Paneer Laja...   \n",
       "1  Momos, Lunch Buffet, Chocolate Nirvana, Thai G...   \n",
       "2  Churros, Cannelloni, Minestrone Soup, Hot Choc...   \n",
       "3                                        Masala Dosa   \n",
       "4                                Panipuri, Gol Gappe   \n",
       "\n",
       "                         cuisines  approx_cost(for two people)  \\\n",
       "0  North Indian, Mughlai, Chinese                        800.0   \n",
       "1     Chinese, North Indian, Thai                        800.0   \n",
       "2          Cafe, Mexican, Italian                        800.0   \n",
       "3      South Indian, North Indian                        300.0   \n",
       "4        North Indian, Rajasthani                        600.0   \n",
       "\n",
       "  listed_in(type) listed_in(city)  \n",
       "0          Buffet    Banashankari  \n",
       "1          Buffet    Banashankari  \n",
       "2          Buffet    Banashankari  \n",
       "3          Buffet    Banashankari  \n",
       "4          Buffet    Banashankari  "
      ]
     },
     "execution_count": 411,
     "metadata": {},
     "output_type": "execute_result"
    }
   ],
   "source": [
    "df.head()"
   ]
  },
  {
   "cell_type": "code",
   "execution_count": 412,
   "id": "17cd3ef2",
   "metadata": {},
   "outputs": [
    {
     "data": {
      "text/html": [
       "<div>\n",
       "<style scoped>\n",
       "    .dataframe tbody tr th:only-of-type {\n",
       "        vertical-align: middle;\n",
       "    }\n",
       "\n",
       "    .dataframe tbody tr th {\n",
       "        vertical-align: top;\n",
       "    }\n",
       "\n",
       "    .dataframe thead th {\n",
       "        text-align: right;\n",
       "    }\n",
       "</style>\n",
       "<table border=\"1\" class=\"dataframe\">\n",
       "  <thead>\n",
       "    <tr style=\"text-align: right;\">\n",
       "      <th></th>\n",
       "      <th>rate</th>\n",
       "      <th>votes</th>\n",
       "      <th>approx_cost(for two people)</th>\n",
       "    </tr>\n",
       "  </thead>\n",
       "  <tbody>\n",
       "    <tr>\n",
       "      <th>count</th>\n",
       "      <td>41665.000000</td>\n",
       "      <td>49440.000000</td>\n",
       "      <td>49099.000000</td>\n",
       "    </tr>\n",
       "    <tr>\n",
       "      <th>mean</th>\n",
       "      <td>3.700449</td>\n",
       "      <td>296.763451</td>\n",
       "      <td>561.224567</td>\n",
       "    </tr>\n",
       "    <tr>\n",
       "      <th>std</th>\n",
       "      <td>0.440513</td>\n",
       "      <td>819.779986</td>\n",
       "      <td>443.454428</td>\n",
       "    </tr>\n",
       "    <tr>\n",
       "      <th>min</th>\n",
       "      <td>1.800000</td>\n",
       "      <td>0.000000</td>\n",
       "      <td>40.000000</td>\n",
       "    </tr>\n",
       "    <tr>\n",
       "      <th>25%</th>\n",
       "      <td>3.400000</td>\n",
       "      <td>9.000000</td>\n",
       "      <td>300.000000</td>\n",
       "    </tr>\n",
       "    <tr>\n",
       "      <th>50%</th>\n",
       "      <td>3.700000</td>\n",
       "      <td>47.000000</td>\n",
       "      <td>400.000000</td>\n",
       "    </tr>\n",
       "    <tr>\n",
       "      <th>75%</th>\n",
       "      <td>4.000000</td>\n",
       "      <td>212.000000</td>\n",
       "      <td>700.000000</td>\n",
       "    </tr>\n",
       "    <tr>\n",
       "      <th>max</th>\n",
       "      <td>4.900000</td>\n",
       "      <td>16832.000000</td>\n",
       "      <td>6000.000000</td>\n",
       "    </tr>\n",
       "  </tbody>\n",
       "</table>\n",
       "</div>"
      ],
      "text/plain": [
       "               rate         votes  approx_cost(for two people)\n",
       "count  41665.000000  49440.000000                 49099.000000\n",
       "mean       3.700449    296.763451                   561.224567\n",
       "std        0.440513    819.779986                   443.454428\n",
       "min        1.800000      0.000000                    40.000000\n",
       "25%        3.400000      9.000000                   300.000000\n",
       "50%        3.700000     47.000000                   400.000000\n",
       "75%        4.000000    212.000000                   700.000000\n",
       "max        4.900000  16832.000000                  6000.000000"
      ]
     },
     "execution_count": 412,
     "metadata": {},
     "output_type": "execute_result"
    }
   ],
   "source": [
    "df.describe()"
   ]
  },
  {
   "cell_type": "code",
   "execution_count": 186,
   "id": "e51dd1e5",
   "metadata": {},
   "outputs": [],
   "source": [
    "#mean rating is 3.7\n",
    "#avg approx value of cost of two people is 561\n",
    "#min and max cost of two people are 40 and 6000 which means there are wide variety of restaurants\n",
    "#min value of votes is zero which means there are restaurants which are not voted yet"
   ]
  },
  {
   "cell_type": "code",
   "execution_count": 413,
   "id": "1a9cb61f",
   "metadata": {},
   "outputs": [
    {
     "data": {
      "text/html": [
       "<div>\n",
       "<style scoped>\n",
       "    .dataframe tbody tr th:only-of-type {\n",
       "        vertical-align: middle;\n",
       "    }\n",
       "\n",
       "    .dataframe tbody tr th {\n",
       "        vertical-align: top;\n",
       "    }\n",
       "\n",
       "    .dataframe thead th {\n",
       "        text-align: right;\n",
       "    }\n",
       "</style>\n",
       "<table border=\"1\" class=\"dataframe\">\n",
       "  <thead>\n",
       "    <tr style=\"text-align: right;\">\n",
       "      <th></th>\n",
       "      <th>online_order</th>\n",
       "      <th>book_table</th>\n",
       "      <th>location</th>\n",
       "      <th>rest_type</th>\n",
       "      <th>dish_liked</th>\n",
       "      <th>cuisines</th>\n",
       "      <th>listed_in(type)</th>\n",
       "      <th>listed_in(city)</th>\n",
       "    </tr>\n",
       "  </thead>\n",
       "  <tbody>\n",
       "    <tr>\n",
       "      <th>count</th>\n",
       "      <td>49440</td>\n",
       "      <td>49440</td>\n",
       "      <td>49419</td>\n",
       "      <td>49215</td>\n",
       "      <td>23492</td>\n",
       "      <td>49395</td>\n",
       "      <td>49440</td>\n",
       "      <td>49440</td>\n",
       "    </tr>\n",
       "    <tr>\n",
       "      <th>unique</th>\n",
       "      <td>2</td>\n",
       "      <td>2</td>\n",
       "      <td>93</td>\n",
       "      <td>93</td>\n",
       "      <td>5228</td>\n",
       "      <td>2632</td>\n",
       "      <td>7</td>\n",
       "      <td>30</td>\n",
       "    </tr>\n",
       "    <tr>\n",
       "      <th>top</th>\n",
       "      <td>Yes</td>\n",
       "      <td>No</td>\n",
       "      <td>BTM</td>\n",
       "      <td>Quick Bites</td>\n",
       "      <td>Biryani</td>\n",
       "      <td>North Indian</td>\n",
       "      <td>Delivery</td>\n",
       "      <td>BTM</td>\n",
       "    </tr>\n",
       "    <tr>\n",
       "      <th>freq</th>\n",
       "      <td>29342</td>\n",
       "      <td>43120</td>\n",
       "      <td>4793</td>\n",
       "      <td>18003</td>\n",
       "      <td>180</td>\n",
       "      <td>2777</td>\n",
       "      <td>24728</td>\n",
       "      <td>3108</td>\n",
       "    </tr>\n",
       "  </tbody>\n",
       "</table>\n",
       "</div>"
      ],
      "text/plain": [
       "       online_order book_table location    rest_type dish_liked      cuisines  \\\n",
       "count         49440      49440    49419        49215      23492         49395   \n",
       "unique            2          2       93           93       5228          2632   \n",
       "top             Yes         No      BTM  Quick Bites    Biryani  North Indian   \n",
       "freq          29342      43120     4793        18003        180          2777   \n",
       "\n",
       "       listed_in(type) listed_in(city)  \n",
       "count            49440           49440  \n",
       "unique               7              30  \n",
       "top           Delivery             BTM  \n",
       "freq             24728            3108  "
      ]
     },
     "execution_count": 413,
     "metadata": {},
     "output_type": "execute_result"
    }
   ],
   "source": [
    "df.describe(include=object)"
   ]
  },
  {
   "cell_type": "code",
   "execution_count": 414,
   "id": "2228649e",
   "metadata": {},
   "outputs": [],
   "source": [
    "#most of the restaurants delivers online \n",
    "#most of the retaurants has no table booking option\n",
    "#majority of restaurants are of quick bites\n",
    "#biriyani is the most liked dish\n",
    "#North indian is the most offered cuisine"
   ]
  },
  {
   "cell_type": "code",
   "execution_count": 415,
   "id": "1667cba9",
   "metadata": {},
   "outputs": [
    {
     "data": {
      "text/plain": [
       "online_order                    0.000000\n",
       "book_table                      0.000000\n",
       "rate                           15.726133\n",
       "votes                           0.000000\n",
       "location                        0.042476\n",
       "rest_type                       0.455097\n",
       "dish_liked                     52.483819\n",
       "cuisines                        0.091019\n",
       "approx_cost(for two people)     0.689725\n",
       "listed_in(type)                 0.000000\n",
       "listed_in(city)                 0.000000\n",
       "dtype: float64"
      ]
     },
     "execution_count": 415,
     "metadata": {},
     "output_type": "execute_result"
    }
   ],
   "source": [
    "#step 3 missing values\n",
    "df.isnull().mean()*100"
   ]
  },
  {
   "cell_type": "code",
   "execution_count": 416,
   "id": "53d13e1f",
   "metadata": {},
   "outputs": [],
   "source": [
    "df['rate'].fillna(df['rate'].median(),inplace=True)"
   ]
  },
  {
   "cell_type": "code",
   "execution_count": 417,
   "id": "ed9bca7a",
   "metadata": {},
   "outputs": [
    {
     "data": {
      "text/plain": [
       "0"
      ]
     },
     "execution_count": 417,
     "metadata": {},
     "output_type": "execute_result"
    }
   ],
   "source": [
    "df['rate'].isnull().sum()"
   ]
  },
  {
   "cell_type": "code",
   "execution_count": 418,
   "id": "64a109b6",
   "metadata": {},
   "outputs": [
    {
     "name": "stdout",
     "output_type": "stream",
     "text": [
      "93\n"
     ]
    },
    {
     "data": {
      "text/plain": [
       "30"
      ]
     },
     "execution_count": 418,
     "metadata": {},
     "output_type": "execute_result"
    }
   ],
   "source": [
    "print(df['location'].nunique())\n",
    "df['listed_in(city)'].nunique()\n",
    "#loaction and listed_in city are saying location or neibhourhood of resturant so we can keep listed city and drop location"
   ]
  },
  {
   "cell_type": "code",
   "execution_count": 419,
   "id": "ea661e10",
   "metadata": {},
   "outputs": [],
   "source": [
    "df.drop(['location'],axis=1,inplace=True)"
   ]
  },
  {
   "cell_type": "code",
   "execution_count": 420,
   "id": "cf25ac13",
   "metadata": {},
   "outputs": [],
   "source": [
    "df.rename(columns={'approx_cost(for two people)':'cost_of_two','listed_in(city)':'area'},inplace=True)"
   ]
  },
  {
   "cell_type": "code",
   "execution_count": 421,
   "id": "adff22dd",
   "metadata": {},
   "outputs": [],
   "source": [
    "#dish liked has 52% null value so we can drop disliked\n",
    "df.drop(['dish_liked'],axis=1,inplace=True)"
   ]
  },
  {
   "cell_type": "code",
   "execution_count": 422,
   "id": "ecd608f7",
   "metadata": {},
   "outputs": [
    {
     "data": {
      "text/html": [
       "<div>\n",
       "<style scoped>\n",
       "    .dataframe tbody tr th:only-of-type {\n",
       "        vertical-align: middle;\n",
       "    }\n",
       "\n",
       "    .dataframe tbody tr th {\n",
       "        vertical-align: top;\n",
       "    }\n",
       "\n",
       "    .dataframe thead th {\n",
       "        text-align: right;\n",
       "    }\n",
       "</style>\n",
       "<table border=\"1\" class=\"dataframe\">\n",
       "  <thead>\n",
       "    <tr style=\"text-align: right;\">\n",
       "      <th></th>\n",
       "      <th>online_order</th>\n",
       "      <th>book_table</th>\n",
       "      <th>rate</th>\n",
       "      <th>votes</th>\n",
       "      <th>rest_type</th>\n",
       "      <th>cuisines</th>\n",
       "      <th>cost_of_two</th>\n",
       "      <th>listed_in(type)</th>\n",
       "      <th>area</th>\n",
       "    </tr>\n",
       "  </thead>\n",
       "  <tbody>\n",
       "    <tr>\n",
       "      <th>0</th>\n",
       "      <td>Yes</td>\n",
       "      <td>Yes</td>\n",
       "      <td>4.1</td>\n",
       "      <td>775</td>\n",
       "      <td>Casual Dining</td>\n",
       "      <td>North Indian, Mughlai, Chinese</td>\n",
       "      <td>800.0</td>\n",
       "      <td>Buffet</td>\n",
       "      <td>Banashankari</td>\n",
       "    </tr>\n",
       "    <tr>\n",
       "      <th>1</th>\n",
       "      <td>Yes</td>\n",
       "      <td>No</td>\n",
       "      <td>4.1</td>\n",
       "      <td>787</td>\n",
       "      <td>Casual Dining</td>\n",
       "      <td>Chinese, North Indian, Thai</td>\n",
       "      <td>800.0</td>\n",
       "      <td>Buffet</td>\n",
       "      <td>Banashankari</td>\n",
       "    </tr>\n",
       "    <tr>\n",
       "      <th>2</th>\n",
       "      <td>Yes</td>\n",
       "      <td>No</td>\n",
       "      <td>3.8</td>\n",
       "      <td>918</td>\n",
       "      <td>Cafe, Casual Dining</td>\n",
       "      <td>Cafe, Mexican, Italian</td>\n",
       "      <td>800.0</td>\n",
       "      <td>Buffet</td>\n",
       "      <td>Banashankari</td>\n",
       "    </tr>\n",
       "    <tr>\n",
       "      <th>3</th>\n",
       "      <td>No</td>\n",
       "      <td>No</td>\n",
       "      <td>3.7</td>\n",
       "      <td>88</td>\n",
       "      <td>Quick Bites</td>\n",
       "      <td>South Indian, North Indian</td>\n",
       "      <td>300.0</td>\n",
       "      <td>Buffet</td>\n",
       "      <td>Banashankari</td>\n",
       "    </tr>\n",
       "    <tr>\n",
       "      <th>4</th>\n",
       "      <td>No</td>\n",
       "      <td>No</td>\n",
       "      <td>3.8</td>\n",
       "      <td>166</td>\n",
       "      <td>Casual Dining</td>\n",
       "      <td>North Indian, Rajasthani</td>\n",
       "      <td>600.0</td>\n",
       "      <td>Buffet</td>\n",
       "      <td>Banashankari</td>\n",
       "    </tr>\n",
       "  </tbody>\n",
       "</table>\n",
       "</div>"
      ],
      "text/plain": [
       "  online_order book_table  rate  votes            rest_type  \\\n",
       "0          Yes        Yes   4.1    775        Casual Dining   \n",
       "1          Yes         No   4.1    787        Casual Dining   \n",
       "2          Yes         No   3.8    918  Cafe, Casual Dining   \n",
       "3           No         No   3.7     88          Quick Bites   \n",
       "4           No         No   3.8    166        Casual Dining   \n",
       "\n",
       "                         cuisines  cost_of_two listed_in(type)          area  \n",
       "0  North Indian, Mughlai, Chinese        800.0          Buffet  Banashankari  \n",
       "1     Chinese, North Indian, Thai        800.0          Buffet  Banashankari  \n",
       "2          Cafe, Mexican, Italian        800.0          Buffet  Banashankari  \n",
       "3      South Indian, North Indian        300.0          Buffet  Banashankari  \n",
       "4        North Indian, Rajasthani        600.0          Buffet  Banashankari  "
      ]
     },
     "execution_count": 422,
     "metadata": {},
     "output_type": "execute_result"
    }
   ],
   "source": [
    "df.head()"
   ]
  },
  {
   "cell_type": "code",
   "execution_count": 423,
   "id": "5e28af86",
   "metadata": {},
   "outputs": [
    {
     "data": {
      "text/plain": [
       "online_order       0.000000\n",
       "book_table         0.000000\n",
       "rate               0.000000\n",
       "votes              0.000000\n",
       "rest_type          0.455097\n",
       "cuisines           0.091019\n",
       "cost_of_two        0.689725\n",
       "listed_in(type)    0.000000\n",
       "area               0.000000\n",
       "dtype: float64"
      ]
     },
     "execution_count": 423,
     "metadata": {},
     "output_type": "execute_result"
    }
   ],
   "source": [
    "df.isnull().mean()*100"
   ]
  },
  {
   "cell_type": "code",
   "execution_count": 424,
   "id": "07c6a4cb",
   "metadata": {},
   "outputs": [],
   "source": [
    "#cost of two has .6% null value since it is our target variable we can drop the null values\n",
    "df.dropna(subset=['cost_of_two'],inplace=True)"
   ]
  },
  {
   "cell_type": "code",
   "execution_count": 425,
   "id": "3c8906d7",
   "metadata": {},
   "outputs": [],
   "source": [
    "df.reset_index(drop=True,inplace=True)"
   ]
  },
  {
   "cell_type": "code",
   "execution_count": 426,
   "id": "41d52d28",
   "metadata": {},
   "outputs": [
    {
     "data": {
      "text/plain": [
       "online_order         0\n",
       "book_table           0\n",
       "rate                 0\n",
       "votes                0\n",
       "rest_type          202\n",
       "cuisines            19\n",
       "cost_of_two          0\n",
       "listed_in(type)      0\n",
       "area                 0\n",
       "dtype: int64"
      ]
     },
     "execution_count": 426,
     "metadata": {},
     "output_type": "execute_result"
    }
   ],
   "source": [
    "df.isnull().sum()\n",
    "#we can drop these null values since there are only few null values"
   ]
  },
  {
   "cell_type": "code",
   "execution_count": 427,
   "id": "a5739ad6",
   "metadata": {},
   "outputs": [],
   "source": [
    "df.dropna(inplace=True)\n",
    "df.reset_index(drop=True,inplace=True)"
   ]
  },
  {
   "cell_type": "code",
   "execution_count": 428,
   "id": "096e00d7",
   "metadata": {},
   "outputs": [
    {
     "data": {
      "text/plain": [
       "online_order       0\n",
       "book_table         0\n",
       "rate               0\n",
       "votes              0\n",
       "rest_type          0\n",
       "cuisines           0\n",
       "cost_of_two        0\n",
       "listed_in(type)    0\n",
       "area               0\n",
       "dtype: int64"
      ]
     },
     "execution_count": 428,
     "metadata": {},
     "output_type": "execute_result"
    }
   ],
   "source": [
    "df.isnull().sum()"
   ]
  },
  {
   "cell_type": "markdown",
   "id": "66a4a14a",
   "metadata": {},
   "source": [
    "Step 4: Once the basic preprocessing is done like converting the data types, missing value\n",
    "imputation, and duplicate rows. perform the EDA(Exploratory Data Analysis) on the data to\n",
    "find the various factors that will help to understand the cost per two persons. \n"
   ]
  },
  {
   "cell_type": "code",
   "execution_count": 372,
   "id": "b1d3941c",
   "metadata": {},
   "outputs": [
    {
     "data": {
      "image/png": "[encoded data removed]",
      "text/plain": [
       "<Figure size 720x576 with 1 Axes>"
      ]
     },
     "metadata": {
      "needs_background": "light"
     },
     "output_type": "display_data"
    }
   ],
   "source": [
    "plt.figure(figsize=(10,8))\n",
    "sns.scatterplot(y=df['rate'],x=df['cost_of_two'],hue=df['online_order'])\n",
    "plt.xticks(range(0,6000,400));"
   ]
  },
  {
   "cell_type": "code",
   "execution_count": null,
   "id": "11f44d63",
   "metadata": {},
   "outputs": [],
   "source": [
    "#most of the restaurants are offering between 200 to 1200 rs range and \n",
    "#we can se very less restaurants above 2500 rs(cost of two\n",
    "#the restaurants which are offering at premium price >2500 are not supplying online\n",
    "#for both online and ofline approx cost of two greater than 1500rs can be considered as premium restaurants\n",
    "# there is no relation between rating and price charged by hotel\n"
   ]
  },
  {
   "cell_type": "code",
   "execution_count": 378,
   "id": "ded1a8c7",
   "metadata": {},
   "outputs": [
    {
     "data": {
      "text/plain": [
       "<AxesSubplot:xlabel='book_table', ylabel='cost_of_two'>"
      ]
     },
     "execution_count": 378,
     "metadata": {},
     "output_type": "execute_result"
    },
    {
     "data": {
      "image/png": "[encoded data removed]",
      "text/plain": [
       "<Figure size 432x288 with 1 Axes>"
      ]
     },
     "metadata": {
      "needs_background": "light"
     },
     "output_type": "display_data"
    }
   ],
   "source": [
    "sns.barplot(x=df['book_table'],y=df['cost_of_two'])"
   ]
  },
  {
   "cell_type": "code",
   "execution_count": null,
   "id": "1c4e8f89",
   "metadata": {},
   "outputs": [],
   "source": [
    "# the avg price of restaurant is more when they are providing booking table option compare to not providing booking \n",
    "#table option"
   ]
  },
  {
   "cell_type": "code",
   "execution_count": null,
   "id": "19e05e05",
   "metadata": {},
   "outputs": [],
   "source": [
    "sns.barplot(df['rest_type'])"
   ]
  },
  {
   "cell_type": "code",
   "execution_count": 429,
   "id": "b0146177",
   "metadata": {},
   "outputs": [],
   "source": [
    "df['rest_type1']=df['rest_type'].map(lambda x: x.split(','))"
   ]
  },
  {
   "cell_type": "code",
   "execution_count": 431,
   "id": "d04073e1",
   "metadata": {},
   "outputs": [],
   "source": [
    "df1=df.explode(column=['rest_type1'])"
   ]
  },
  {
   "cell_type": "code",
   "execution_count": 432,
   "id": "1fd0df04",
   "metadata": {},
   "outputs": [
    {
     "data": {
      "text/plain": [
       "array(['Casual Dining', 'Cafe', ' Casual Dining', 'Quick Bites', ' Cafe',\n",
       "       ' Quick Bites', 'Delivery', 'Mess', 'Dessert Parlor', 'Bakery',\n",
       "       ' Dessert Parlor', 'Pub', 'Takeaway', ' Delivery', 'Fine Dining',\n",
       "       'Beverage Shop', 'Sweet Shop', 'Bar', 'Confectionery',\n",
       "       ' Beverage Shop', ' Sweet Shop', 'Kiosk', 'Food Truck', ' Bar',\n",
       "       ' Bakery', 'Microbrewery', 'Lounge', 'Food Court', 'Dhaba', ' Pub',\n",
       "       ' Microbrewery', ' Food Court', 'Club', ' Irani Cafee', ' Lounge',\n",
       "       ' Kiosk', 'Bhojanalya', 'Pop Up', ' Mess', ' Meat Shop'],\n",
       "      dtype=object)"
      ]
     },
     "execution_count": 432,
     "metadata": {},
     "output_type": "execute_result"
    }
   ],
   "source": [
    "df1['rest_type1'].unique()"
   ]
  },
  {
   "cell_type": "code",
   "execution_count": null,
   "id": "d7f7f177",
   "metadata": {},
   "outputs": [],
   "source": [
    "#same values is identified as unique beacuse of wrong entry"
   ]
  },
  {
   "cell_type": "code",
   "execution_count": 434,
   "id": "3af33e5b",
   "metadata": {},
   "outputs": [],
   "source": [
    "#using strip to make all entry same\n",
    "df1['rest_type1']=df1['rest_type1'].map(lambda x: x.strip())"
   ]
  },
  {
   "cell_type": "code",
   "execution_count": 435,
   "id": "7760d6c2",
   "metadata": {},
   "outputs": [
    {
     "data": {
      "text/plain": [
       "array(['Casual Dining', 'Cafe', 'Quick Bites', 'Delivery', 'Mess',\n",
       "       'Dessert Parlor', 'Bakery', 'Pub', 'Takeaway', 'Fine Dining',\n",
       "       'Beverage Shop', 'Sweet Shop', 'Bar', 'Confectionery', 'Kiosk',\n",
       "       'Food Truck', 'Microbrewery', 'Lounge', 'Food Court', 'Dhaba',\n",
       "       'Club', 'Irani Cafee', 'Bhojanalya', 'Pop Up', 'Meat Shop'],\n",
       "      dtype=object)"
      ]
     },
     "execution_count": 435,
     "metadata": {},
     "output_type": "execute_result"
    }
   ],
   "source": [
    "df1['rest_type1'].unique()"
   ]
  },
  {
   "cell_type": "code",
   "execution_count": 444,
   "id": "8f05fc62",
   "metadata": {},
   "outputs": [
    {
     "data": {
      "text/plain": [
       "<Figure size 720x576 with 0 Axes>"
      ]
     },
     "metadata": {},
     "output_type": "display_data"
    }
   ],
   "source": [
    "plt.figure(figsize=(10,8))\n",
    "df_rest=df1.groupby(by=['rest_type1'])['cost_of_two'].mean().sort_values().reset_index()"
   ]
  },
  {
   "cell_type": "code",
   "execution_count": 457,
   "id": "cceb01eb",
   "metadata": {
    "scrolled": false
   },
   "outputs": [
    {
     "data": {
      "text/plain": [
       "<AxesSubplot:xlabel='cost_of_two', ylabel='rest_type1'>"
      ]
     },
     "execution_count": 457,
     "metadata": {},
     "output_type": "execute_result"
    },
    {
     "data": {
      "image/png": "[encoded data removed]",
      "text/plain": [
       "<Figure size 720x576 with 1 Axes>"
      ]
     },
     "metadata": {
      "needs_background": "light"
     },
     "output_type": "display_data"
    }
   ],
   "source": [
    "plt.figure(figsize=(10,8))\n",
    "plt.xticks(range(0,3000,300))\n",
    "sns.barplot(y=df_rest['rest_type1'],x=df_rest['cost_of_two'])"
   ]
  },
  {
   "cell_type": "code",
   "execution_count": null,
   "id": "5c247f7b",
   "metadata": {},
   "outputs": [],
   "source": [
    "# avg price of Fine dining restaurants is higest followed by club and lounge\n",
    "#we can say the retaurants types are the premium types \n",
    "#pub and bar aslo have avg cost of two people more than 1300\n",
    "#sweet shops bakery and food truck have min avg cost of two people around rs300"
   ]
  },
  {
   "cell_type": "code",
   "execution_count": 596,
   "id": "9c2f5007",
   "metadata": {},
   "outputs": [],
   "source": [
    "o=df.groupby(['listed_in(type)'])['cost_of_two'].mean().sort_values().index"
   ]
  },
  {
   "cell_type": "code",
   "execution_count": 600,
   "id": "4e03f36b",
   "metadata": {},
   "outputs": [
    {
     "data": {
      "text/plain": [
       "<AxesSubplot:xlabel='listed_in(type)', ylabel='cost_of_two'>"
      ]
     },
     "execution_count": 600,
     "metadata": {},
     "output_type": "execute_result"
    },
    {
     "data": {
      "image/png": "[encoded data removed]",
      "text/plain": [
       "<Figure size 864x576 with 1 Axes>"
      ]
     },
     "metadata": {
      "needs_background": "light"
     },
     "output_type": "display_data"
    }
   ],
   "source": [
    "plt.figure(figsize=(12,8))\n",
    "sns.barplot(x=df['listed_in(type)'],y=df['cost_of_two'],order=o)"
   ]
  },
  {
   "cell_type": "code",
   "execution_count": 601,
   "id": "4e971928",
   "metadata": {},
   "outputs": [],
   "source": [
    "#Drinks and night life have higest avg cost followed by pubs and bars\n",
    "#Desserts have least avg cost of two"
   ]
  },
  {
   "cell_type": "code",
   "execution_count": 581,
   "id": "33066b22",
   "metadata": {},
   "outputs": [],
   "source": [
    "o=list(df.groupby(by=['area'])['cost_of_two'].mean().sort_values().index)"
   ]
  },
  {
   "cell_type": "code",
   "execution_count": 583,
   "id": "f5842e92",
   "metadata": {},
   "outputs": [
    {
     "data": {
      "text/plain": [
       "<AxesSubplot:xlabel='cost_of_two', ylabel='area'>"
      ]
     },
     "execution_count": 583,
     "metadata": {},
     "output_type": "execute_result"
    },
    {
     "data": {
      "image/png": "[encoded data removed]",
      "text/plain": [
       "<Figure size 864x720 with 1 Axes>"
      ]
     },
     "metadata": {
      "needs_background": "light"
     },
     "output_type": "display_data"
    }
   ],
   "source": [
    "plt.figure(figsize=(12,10))\n",
    "sns.barplot(y=df['area'],x=df['cost_of_two'],order=o)"
   ]
  },
  {
   "cell_type": "code",
   "execution_count": 584,
   "id": "9e6b2bf3",
   "metadata": {},
   "outputs": [],
   "source": [
    "#chruch street have expensive restaurants followed by brigade road and mg road at more than rs 700 for 2 peope\n",
    "#Banashankri bsavanagudi and banergatta road has less avg price among all area @ around 400 rs for 2 people"
   ]
  },
  {
   "cell_type": "markdown",
   "id": "3fedab1e",
   "metadata": {},
   "source": [
    "Step 5: Make a copy of the data set and Perform the preprocessing that require for the\n",
    "model.\n",
    "Note: You can see many categorical variables with a high number of unique values.\n",
    "Therefore do not keep dropping the variables as the fi"
   ]
  },
  {
   "cell_type": "markdown",
   "id": "4e7716a4",
   "metadata": {},
   "source": [
    "Feature enginering"
   ]
  },
  {
   "cell_type": "code",
   "execution_count": 585,
   "id": "6a8c870b",
   "metadata": {},
   "outputs": [],
   "source": [
    "#Handeling cuisines"
   ]
  },
  {
   "cell_type": "code",
   "execution_count": 459,
   "id": "16706119",
   "metadata": {
    "scrolled": false
   },
   "outputs": [
    {
     "data": {
      "text/plain": [
       "North Indian                           2722\n",
       "North Indian, Chinese                  2275\n",
       "South Indian                           1736\n",
       "Biryani                                 874\n",
       "Bakery, Desserts                        870\n",
       "Desserts                                739\n",
       "Fast Food                               736\n",
       "Cafe                                    715\n",
       "South Indian, North Indian, Chinese     684\n",
       "Bakery                                  594\n",
       "Chinese                                 515\n",
       "Ice Cream, Desserts                     411\n",
       "Chinese, North Indian                   395\n",
       "Mithai, Street Food                     357\n",
       "North Indian, Chinese, Biryani          328\n",
       "Desserts, Ice Cream                     322\n",
       "South Indian, North Indian              300\n",
       "North Indian, South Indian              293\n",
       "North Indian, South Indian, Chinese     282\n",
       "North Indian, Biryani                   274\n",
       "Beverages                               273\n",
       "Biryani, Kebab                          267\n",
       "Finger Food                             258\n",
       "Desserts, Beverages                     251\n",
       "Street Food                             251\n",
       "Biryani, North Indian                   244\n",
       "Beverages, Fast Food                    240\n",
       "South Indian, Biryani                   238\n",
       "South Indian, Chinese                   237\n",
       "Chinese, Momos                          225\n",
       "Name: cuisines, dtype: int64"
      ]
     },
     "execution_count": 459,
     "metadata": {},
     "output_type": "execute_result"
    }
   ],
   "source": [
    "df['cuisines'].value_counts().head(30)"
   ]
  },
  {
   "cell_type": "code",
   "execution_count": 483,
   "id": "656f6af0",
   "metadata": {},
   "outputs": [],
   "source": [
    "# tying to get uique values in cuisins\n",
    "cu=[i for i in df.cuisines.str.split(',')]"
   ]
  },
  {
   "cell_type": "code",
   "execution_count": 484,
   "id": "32a3c7a2",
   "metadata": {},
   "outputs": [],
   "source": [
    "cus=[]\n",
    "for i in cu:\n",
    "    for j in i:\n",
    "        cus.append(j.lower().strip())"
   ]
  },
  {
   "cell_type": "code",
   "execution_count": 485,
   "id": "9a8549e4",
   "metadata": {},
   "outputs": [
    {
     "data": {
      "text/plain": [
       "array(['afghan', 'afghani', 'african', 'american', 'andhra', 'arabian',\n",
       "       'asian', 'assamese', 'australian', 'awadhi', 'bakery', 'bar food',\n",
       "       'bbq', 'belgian', 'bengali', 'beverages', 'bihari', 'biryani',\n",
       "       'bohri', 'british', 'bubble tea', 'burger', 'burmese', 'cafe',\n",
       "       'cantonese', 'charcoal chicken', 'chettinad', 'chinese', 'coffee',\n",
       "       'continental', 'desserts', 'drinks only', 'european', 'fast food',\n",
       "       'finger food', 'french', 'german', 'goan', 'greek', 'grill',\n",
       "       'gujarati', 'healthy food', 'hot dogs', 'hyderabadi', 'ice cream',\n",
       "       'indonesian', 'iranian', 'italian', 'japanese', 'jewish', 'juices',\n",
       "       'kashmiri', 'kebab', 'kerala', 'konkan', 'korean', 'lebanese',\n",
       "       'lucknowi', 'maharashtrian', 'malaysian', 'malwani', 'mangalorean',\n",
       "       'mediterranean', 'mexican', 'middle eastern', 'mithai',\n",
       "       'modern indian', 'momos', 'mongolian', 'mughlai', 'naga',\n",
       "       'nepalese', 'north eastern', 'north indian', 'oriya', 'paan',\n",
       "       'pan asian', 'parsi', 'pizza', 'portuguese', 'rajasthani',\n",
       "       'raw meats', 'roast chicken', 'rolls', 'russian', 'salad',\n",
       "       'sandwich', 'seafood', 'sindhi', 'singaporean', 'south american',\n",
       "       'south indian', 'spanish', 'sri lankan', 'steak', 'street food',\n",
       "       'sushi', 'tamil', 'tea', 'tex-mex', 'thai', 'tibetan', 'turkish',\n",
       "       'vegan', 'vietnamese', 'wraps'], dtype='<U16')"
      ]
     },
     "execution_count": 485,
     "metadata": {},
     "output_type": "execute_result"
    }
   ],
   "source": [
    "np.unique(cus)\n",
    "#these are the unique cuisins offered since same restaurants is offerenig multiple cuisins we can reduce to some cusins\n",
    "#we can include columns whether the cuisins are availbale or not at a particular restaurant"
   ]
  },
  {
   "cell_type": "code",
   "execution_count": 486,
   "id": "64f5ffb5",
   "metadata": {},
   "outputs": [],
   "source": [
    "cus=['Afghani','African','American','Andhra','Bakery','Bar','BBQ','Beverages','Biryani',\n",
    "    'Burger','cafe','Chinese','coffee','continental','desserts','European','Fast food','french','gujarati','Hyderabadi',\n",
    "     'Italian','Japanese','Kashmiri','Kerala','mexican','momos','North Indian','Pizza','Rajasthani','Rolls',\n",
    "     'Sandwich','Seafood','South Indian','Steak','Street food','Wraps']"
   ]
  },
  {
   "cell_type": "code",
   "execution_count": 487,
   "id": "1fe482d5",
   "metadata": {},
   "outputs": [],
   "source": [
    "dic={}\n",
    "for i in cus:\n",
    "       dic.update({i:[df['cuisines'].str.contains(i,case=False).sum()]})"
   ]
  },
  {
   "cell_type": "code",
   "execution_count": 488,
   "id": "7f9c034f",
   "metadata": {},
   "outputs": [],
   "source": [
    "#removing the cusinis which are less tha 300\n",
    "cusins=pd.DataFrame(dic).transpose()\n",
    "for i in list(cusins[cusins[0]<300].index):\n",
    "    cus.remove(i)"
   ]
  },
  {
   "cell_type": "code",
   "execution_count": 489,
   "id": "81dd2bfe",
   "metadata": {},
   "outputs": [],
   "source": [
    "dic={}\n",
    "for i in cus:\n",
    "       dic.update({i:[df['cuisines'].str.contains(i,case=False).sum()]})"
   ]
  },
  {
   "cell_type": "code",
   "execution_count": 490,
   "id": "52dd92f6",
   "metadata": {},
   "outputs": [
    {
     "data": {
      "text/html": [
       "<div>\n",
       "<style scoped>\n",
       "    .dataframe tbody tr th:only-of-type {\n",
       "        vertical-align: middle;\n",
       "    }\n",
       "\n",
       "    .dataframe tbody tr th {\n",
       "        vertical-align: top;\n",
       "    }\n",
       "\n",
       "    .dataframe thead th {\n",
       "        text-align: right;\n",
       "    }\n",
       "</style>\n",
       "<table border=\"1\" class=\"dataframe\">\n",
       "  <thead>\n",
       "    <tr style=\"text-align: right;\">\n",
       "      <th></th>\n",
       "      <th>0</th>\n",
       "    </tr>\n",
       "  </thead>\n",
       "  <tbody>\n",
       "    <tr>\n",
       "      <th>American</th>\n",
       "      <td>1455</td>\n",
       "    </tr>\n",
       "    <tr>\n",
       "      <th>Andhra</th>\n",
       "      <td>1678</td>\n",
       "    </tr>\n",
       "    <tr>\n",
       "      <th>Bakery</th>\n",
       "      <td>2716</td>\n",
       "    </tr>\n",
       "    <tr>\n",
       "      <th>BBQ</th>\n",
       "      <td>712</td>\n",
       "    </tr>\n",
       "    <tr>\n",
       "      <th>Beverages</th>\n",
       "      <td>4449</td>\n",
       "    </tr>\n",
       "    <tr>\n",
       "      <th>Biryani</th>\n",
       "      <td>6119</td>\n",
       "    </tr>\n",
       "    <tr>\n",
       "      <th>Burger</th>\n",
       "      <td>1950</td>\n",
       "    </tr>\n",
       "    <tr>\n",
       "      <th>cafe</th>\n",
       "      <td>5070</td>\n",
       "    </tr>\n",
       "    <tr>\n",
       "      <th>Chinese</th>\n",
       "      <td>14683</td>\n",
       "    </tr>\n",
       "    <tr>\n",
       "      <th>continental</th>\n",
       "      <td>5455</td>\n",
       "    </tr>\n",
       "    <tr>\n",
       "      <th>desserts</th>\n",
       "      <td>5354</td>\n",
       "    </tr>\n",
       "    <tr>\n",
       "      <th>European</th>\n",
       "      <td>707</td>\n",
       "    </tr>\n",
       "    <tr>\n",
       "      <th>Fast food</th>\n",
       "      <td>7589</td>\n",
       "    </tr>\n",
       "    <tr>\n",
       "      <th>Hyderabadi</th>\n",
       "      <td>310</td>\n",
       "    </tr>\n",
       "    <tr>\n",
       "      <th>Italian</th>\n",
       "      <td>3261</td>\n",
       "    </tr>\n",
       "    <tr>\n",
       "      <th>Japanese</th>\n",
       "      <td>345</td>\n",
       "    </tr>\n",
       "    <tr>\n",
       "      <th>Kerala</th>\n",
       "      <td>1373</td>\n",
       "    </tr>\n",
       "    <tr>\n",
       "      <th>mexican</th>\n",
       "      <td>499</td>\n",
       "    </tr>\n",
       "    <tr>\n",
       "      <th>momos</th>\n",
       "      <td>1217</td>\n",
       "    </tr>\n",
       "    <tr>\n",
       "      <th>North Indian</th>\n",
       "      <td>19830</td>\n",
       "    </tr>\n",
       "    <tr>\n",
       "      <th>Pizza</th>\n",
       "      <td>1963</td>\n",
       "    </tr>\n",
       "    <tr>\n",
       "      <th>Rolls</th>\n",
       "      <td>1388</td>\n",
       "    </tr>\n",
       "    <tr>\n",
       "      <th>Sandwich</th>\n",
       "      <td>830</td>\n",
       "    </tr>\n",
       "    <tr>\n",
       "      <th>Seafood</th>\n",
       "      <td>1717</td>\n",
       "    </tr>\n",
       "    <tr>\n",
       "      <th>South Indian</th>\n",
       "      <td>8035</td>\n",
       "    </tr>\n",
       "    <tr>\n",
       "      <th>Steak</th>\n",
       "      <td>561</td>\n",
       "    </tr>\n",
       "    <tr>\n",
       "      <th>Street food</th>\n",
       "      <td>2487</td>\n",
       "    </tr>\n",
       "  </tbody>\n",
       "</table>\n",
       "</div>"
      ],
      "text/plain": [
       "                  0\n",
       "American       1455\n",
       "Andhra         1678\n",
       "Bakery         2716\n",
       "BBQ             712\n",
       "Beverages      4449\n",
       "Biryani        6119\n",
       "Burger         1950\n",
       "cafe           5070\n",
       "Chinese       14683\n",
       "continental    5455\n",
       "desserts       5354\n",
       "European        707\n",
       "Fast food      7589\n",
       "Hyderabadi      310\n",
       "Italian        3261\n",
       "Japanese        345\n",
       "Kerala         1373\n",
       "mexican         499\n",
       "momos          1217\n",
       "North Indian  19830\n",
       "Pizza          1963\n",
       "Rolls          1388\n",
       "Sandwich        830\n",
       "Seafood        1717\n",
       "South Indian   8035\n",
       "Steak           561\n",
       "Street food    2487"
      ]
     },
     "execution_count": 490,
     "metadata": {},
     "output_type": "execute_result"
    }
   ],
   "source": [
    "cusinis=pd.DataFrame(dic).transpose()\n",
    "cusinis"
   ]
  },
  {
   "cell_type": "code",
   "execution_count": 491,
   "id": "2a0478f6",
   "metadata": {},
   "outputs": [],
   "source": [
    "for i in cusinis.index:\n",
    "    df[i]=np.where(df['cuisines'].str.contains(i,case=False),1,0)"
   ]
  },
  {
   "cell_type": "code",
   "execution_count": 359,
   "id": "c0ab5132",
   "metadata": {},
   "outputs": [
    {
     "data": {
      "text/html": [
       "<div>\n",
       "<style scoped>\n",
       "    .dataframe tbody tr th:only-of-type {\n",
       "        vertical-align: middle;\n",
       "    }\n",
       "\n",
       "    .dataframe tbody tr th {\n",
       "        vertical-align: top;\n",
       "    }\n",
       "\n",
       "    .dataframe thead th {\n",
       "        text-align: right;\n",
       "    }\n",
       "</style>\n",
       "<table border=\"1\" class=\"dataframe\">\n",
       "  <thead>\n",
       "    <tr style=\"text-align: right;\">\n",
       "      <th></th>\n",
       "      <th>online_order</th>\n",
       "      <th>book_table</th>\n",
       "      <th>rate</th>\n",
       "      <th>votes</th>\n",
       "      <th>rest_type</th>\n",
       "      <th>cuisines</th>\n",
       "      <th>cost_of_two</th>\n",
       "      <th>listed_in(type)</th>\n",
       "      <th>area</th>\n",
       "      <th>American</th>\n",
       "      <th>...</th>\n",
       "      <th>mexican</th>\n",
       "      <th>momos</th>\n",
       "      <th>North Indian</th>\n",
       "      <th>Pizza</th>\n",
       "      <th>Rolls</th>\n",
       "      <th>Sandwich</th>\n",
       "      <th>Seafood</th>\n",
       "      <th>South Indian</th>\n",
       "      <th>Steak</th>\n",
       "      <th>Street food</th>\n",
       "    </tr>\n",
       "  </thead>\n",
       "  <tbody>\n",
       "    <tr>\n",
       "      <th>0</th>\n",
       "      <td>Yes</td>\n",
       "      <td>Yes</td>\n",
       "      <td>4.1</td>\n",
       "      <td>775</td>\n",
       "      <td>Casual Dining</td>\n",
       "      <td>North Indian, Mughlai, Chinese</td>\n",
       "      <td>800.0</td>\n",
       "      <td>Buffet</td>\n",
       "      <td>Banashankari</td>\n",
       "      <td>0</td>\n",
       "      <td>...</td>\n",
       "      <td>0</td>\n",
       "      <td>0</td>\n",
       "      <td>1</td>\n",
       "      <td>0</td>\n",
       "      <td>0</td>\n",
       "      <td>0</td>\n",
       "      <td>0</td>\n",
       "      <td>0</td>\n",
       "      <td>0</td>\n",
       "      <td>0</td>\n",
       "    </tr>\n",
       "    <tr>\n",
       "      <th>1</th>\n",
       "      <td>Yes</td>\n",
       "      <td>No</td>\n",
       "      <td>4.1</td>\n",
       "      <td>787</td>\n",
       "      <td>Casual Dining</td>\n",
       "      <td>Chinese, North Indian, Thai</td>\n",
       "      <td>800.0</td>\n",
       "      <td>Buffet</td>\n",
       "      <td>Banashankari</td>\n",
       "      <td>0</td>\n",
       "      <td>...</td>\n",
       "      <td>0</td>\n",
       "      <td>0</td>\n",
       "      <td>1</td>\n",
       "      <td>0</td>\n",
       "      <td>0</td>\n",
       "      <td>0</td>\n",
       "      <td>0</td>\n",
       "      <td>0</td>\n",
       "      <td>0</td>\n",
       "      <td>0</td>\n",
       "    </tr>\n",
       "    <tr>\n",
       "      <th>2</th>\n",
       "      <td>Yes</td>\n",
       "      <td>No</td>\n",
       "      <td>3.8</td>\n",
       "      <td>918</td>\n",
       "      <td>Cafe, Casual Dining</td>\n",
       "      <td>Cafe, Mexican, Italian</td>\n",
       "      <td>800.0</td>\n",
       "      <td>Buffet</td>\n",
       "      <td>Banashankari</td>\n",
       "      <td>0</td>\n",
       "      <td>...</td>\n",
       "      <td>1</td>\n",
       "      <td>0</td>\n",
       "      <td>0</td>\n",
       "      <td>0</td>\n",
       "      <td>0</td>\n",
       "      <td>0</td>\n",
       "      <td>0</td>\n",
       "      <td>0</td>\n",
       "      <td>0</td>\n",
       "      <td>0</td>\n",
       "    </tr>\n",
       "    <tr>\n",
       "      <th>3</th>\n",
       "      <td>No</td>\n",
       "      <td>No</td>\n",
       "      <td>3.7</td>\n",
       "      <td>88</td>\n",
       "      <td>Quick Bites</td>\n",
       "      <td>South Indian, North Indian</td>\n",
       "      <td>300.0</td>\n",
       "      <td>Buffet</td>\n",
       "      <td>Banashankari</td>\n",
       "      <td>0</td>\n",
       "      <td>...</td>\n",
       "      <td>0</td>\n",
       "      <td>0</td>\n",
       "      <td>1</td>\n",
       "      <td>0</td>\n",
       "      <td>0</td>\n",
       "      <td>0</td>\n",
       "      <td>0</td>\n",
       "      <td>1</td>\n",
       "      <td>0</td>\n",
       "      <td>0</td>\n",
       "    </tr>\n",
       "    <tr>\n",
       "      <th>4</th>\n",
       "      <td>No</td>\n",
       "      <td>No</td>\n",
       "      <td>3.8</td>\n",
       "      <td>166</td>\n",
       "      <td>Casual Dining</td>\n",
       "      <td>North Indian, Rajasthani</td>\n",
       "      <td>600.0</td>\n",
       "      <td>Buffet</td>\n",
       "      <td>Banashankari</td>\n",
       "      <td>0</td>\n",
       "      <td>...</td>\n",
       "      <td>0</td>\n",
       "      <td>0</td>\n",
       "      <td>1</td>\n",
       "      <td>0</td>\n",
       "      <td>0</td>\n",
       "      <td>0</td>\n",
       "      <td>0</td>\n",
       "      <td>0</td>\n",
       "      <td>0</td>\n",
       "      <td>0</td>\n",
       "    </tr>\n",
       "  </tbody>\n",
       "</table>\n",
       "<p>5 rows × 36 columns</p>\n",
       "</div>"
      ],
      "text/plain": [
       "  online_order book_table  rate  votes            rest_type  \\\n",
       "0          Yes        Yes   4.1    775        Casual Dining   \n",
       "1          Yes         No   4.1    787        Casual Dining   \n",
       "2          Yes         No   3.8    918  Cafe, Casual Dining   \n",
       "3           No         No   3.7     88          Quick Bites   \n",
       "4           No         No   3.8    166        Casual Dining   \n",
       "\n",
       "                         cuisines  cost_of_two listed_in(type)          area  \\\n",
       "0  North Indian, Mughlai, Chinese        800.0          Buffet  Banashankari   \n",
       "1     Chinese, North Indian, Thai        800.0          Buffet  Banashankari   \n",
       "2          Cafe, Mexican, Italian        800.0          Buffet  Banashankari   \n",
       "3      South Indian, North Indian        300.0          Buffet  Banashankari   \n",
       "4        North Indian, Rajasthani        600.0          Buffet  Banashankari   \n",
       "\n",
       "   American  ...  mexican  momos  North Indian  Pizza  Rolls  Sandwich  \\\n",
       "0         0  ...        0      0             1      0      0         0   \n",
       "1         0  ...        0      0             1      0      0         0   \n",
       "2         0  ...        1      0             0      0      0         0   \n",
       "3         0  ...        0      0             1      0      0         0   \n",
       "4         0  ...        0      0             1      0      0         0   \n",
       "\n",
       "   Seafood  South Indian  Steak  Street food  \n",
       "0        0             0      0            0  \n",
       "1        0             0      0            0  \n",
       "2        0             0      0            0  \n",
       "3        0             1      0            0  \n",
       "4        0             0      0            0  \n",
       "\n",
       "[5 rows x 36 columns]"
      ]
     },
     "execution_count": 359,
     "metadata": {},
     "output_type": "execute_result"
    }
   ],
   "source": [
    "df.head()"
   ]
  },
  {
   "cell_type": "markdown",
   "id": "44b2563b",
   "metadata": {},
   "source": [
    "Handeling rest_type"
   ]
  },
  {
   "cell_type": "code",
   "execution_count": 524,
   "id": "69107305",
   "metadata": {},
   "outputs": [],
   "source": [
    "rest_type=df1['rest_type1'].value_counts().reset_index().iloc[0:22]['index'].values"
   ]
  },
  {
   "cell_type": "code",
   "execution_count": 525,
   "id": "6c659792",
   "metadata": {},
   "outputs": [
    {
     "data": {
      "text/plain": [
       "array(['Quick Bites', 'Casual Dining', 'Cafe', 'Delivery',\n",
       "       'Dessert Parlor', 'Bar', 'Takeaway', 'Bakery', 'Beverage Shop',\n",
       "       'Pub', 'Sweet Shop', 'Food Court', 'Lounge', 'Fine Dining',\n",
       "       'Microbrewery', 'Mess', 'Kiosk', 'Food Truck', 'Confectionery',\n",
       "       'Club', 'Dhaba', 'Irani Cafee'], dtype=object)"
      ]
     },
     "execution_count": 525,
     "metadata": {},
     "output_type": "execute_result"
    }
   ],
   "source": [
    "rest_type"
   ]
  },
  {
   "cell_type": "code",
   "execution_count": 535,
   "id": "27b33026",
   "metadata": {},
   "outputs": [],
   "source": [
    "df.reset_index(drop=True,inplace=True)"
   ]
  },
  {
   "cell_type": "code",
   "execution_count": 536,
   "id": "9fc25fb8",
   "metadata": {},
   "outputs": [],
   "source": [
    "for i in rest_type:\n",
    "    df[i]=np.where(df['rest_type'].str.contains(i),1,0)"
   ]
  },
  {
   "cell_type": "code",
   "execution_count": 539,
   "id": "2ff36fd7",
   "metadata": {},
   "outputs": [
    {
     "data": {
      "text/html": [
       "<div>\n",
       "<style scoped>\n",
       "    .dataframe tbody tr th:only-of-type {\n",
       "        vertical-align: middle;\n",
       "    }\n",
       "\n",
       "    .dataframe tbody tr th {\n",
       "        vertical-align: top;\n",
       "    }\n",
       "\n",
       "    .dataframe thead th {\n",
       "        text-align: right;\n",
       "    }\n",
       "</style>\n",
       "<table border=\"1\" class=\"dataframe\">\n",
       "  <thead>\n",
       "    <tr style=\"text-align: right;\">\n",
       "      <th></th>\n",
       "      <th>online_order</th>\n",
       "      <th>book_table</th>\n",
       "      <th>rate</th>\n",
       "      <th>votes</th>\n",
       "      <th>rest_type</th>\n",
       "      <th>cuisines</th>\n",
       "      <th>cost_of_two</th>\n",
       "      <th>listed_in(type)</th>\n",
       "      <th>area</th>\n",
       "      <th>rest_type1</th>\n",
       "      <th>American</th>\n",
       "      <th>Andhra</th>\n",
       "      <th>Bakery</th>\n",
       "      <th>BBQ</th>\n",
       "      <th>Beverages</th>\n",
       "      <th>Biryani</th>\n",
       "      <th>Burger</th>\n",
       "      <th>cafe</th>\n",
       "      <th>Chinese</th>\n",
       "      <th>continental</th>\n",
       "      <th>desserts</th>\n",
       "      <th>European</th>\n",
       "      <th>Fast food</th>\n",
       "      <th>Hyderabadi</th>\n",
       "      <th>Italian</th>\n",
       "      <th>Japanese</th>\n",
       "      <th>Kerala</th>\n",
       "      <th>mexican</th>\n",
       "      <th>momos</th>\n",
       "      <th>North Indian</th>\n",
       "      <th>Pizza</th>\n",
       "      <th>Rolls</th>\n",
       "      <th>Sandwich</th>\n",
       "      <th>Seafood</th>\n",
       "      <th>South Indian</th>\n",
       "      <th>Steak</th>\n",
       "      <th>Street food</th>\n",
       "      <th>Quick Bites</th>\n",
       "      <th>Casual Dining</th>\n",
       "      <th>Cafe</th>\n",
       "      <th>Delivery</th>\n",
       "      <th>Dessert Parlor</th>\n",
       "      <th>Bar</th>\n",
       "      <th>Takeaway</th>\n",
       "      <th>Beverage Shop</th>\n",
       "      <th>Pub</th>\n",
       "      <th>Sweet Shop</th>\n",
       "      <th>Food Court</th>\n",
       "      <th>Lounge</th>\n",
       "      <th>Fine Dining</th>\n",
       "      <th>Microbrewery</th>\n",
       "      <th>Mess</th>\n",
       "      <th>Kiosk</th>\n",
       "      <th>Food Truck</th>\n",
       "      <th>Confectionery</th>\n",
       "      <th>Club</th>\n",
       "      <th>Dhaba</th>\n",
       "      <th>Irani Cafee</th>\n",
       "    </tr>\n",
       "  </thead>\n",
       "  <tbody>\n",
       "    <tr>\n",
       "      <th>0</th>\n",
       "      <td>Yes</td>\n",
       "      <td>Yes</td>\n",
       "      <td>4.1</td>\n",
       "      <td>775</td>\n",
       "      <td>Casual Dining</td>\n",
       "      <td>North Indian, Mughlai, Chinese</td>\n",
       "      <td>800.0</td>\n",
       "      <td>Buffet</td>\n",
       "      <td>Banashankari</td>\n",
       "      <td>[Casual Dining]</td>\n",
       "      <td>0</td>\n",
       "      <td>0</td>\n",
       "      <td>0</td>\n",
       "      <td>0</td>\n",
       "      <td>0</td>\n",
       "      <td>0</td>\n",
       "      <td>0</td>\n",
       "      <td>0</td>\n",
       "      <td>1</td>\n",
       "      <td>0</td>\n",
       "      <td>0</td>\n",
       "      <td>0</td>\n",
       "      <td>0</td>\n",
       "      <td>0</td>\n",
       "      <td>0</td>\n",
       "      <td>0</td>\n",
       "      <td>0</td>\n",
       "      <td>0</td>\n",
       "      <td>0</td>\n",
       "      <td>1</td>\n",
       "      <td>0</td>\n",
       "      <td>0</td>\n",
       "      <td>0</td>\n",
       "      <td>0</td>\n",
       "      <td>0</td>\n",
       "      <td>0</td>\n",
       "      <td>0</td>\n",
       "      <td>0</td>\n",
       "      <td>1</td>\n",
       "      <td>0</td>\n",
       "      <td>0</td>\n",
       "      <td>0</td>\n",
       "      <td>0</td>\n",
       "      <td>0</td>\n",
       "      <td>0</td>\n",
       "      <td>0</td>\n",
       "      <td>0</td>\n",
       "      <td>0</td>\n",
       "      <td>0</td>\n",
       "      <td>0</td>\n",
       "      <td>0</td>\n",
       "      <td>0</td>\n",
       "      <td>0</td>\n",
       "      <td>0</td>\n",
       "      <td>0</td>\n",
       "      <td>0</td>\n",
       "      <td>0</td>\n",
       "      <td>0</td>\n",
       "    </tr>\n",
       "    <tr>\n",
       "      <th>1</th>\n",
       "      <td>Yes</td>\n",
       "      <td>No</td>\n",
       "      <td>4.1</td>\n",
       "      <td>787</td>\n",
       "      <td>Casual Dining</td>\n",
       "      <td>Chinese, North Indian, Thai</td>\n",
       "      <td>800.0</td>\n",
       "      <td>Buffet</td>\n",
       "      <td>Banashankari</td>\n",
       "      <td>[Casual Dining]</td>\n",
       "      <td>0</td>\n",
       "      <td>0</td>\n",
       "      <td>0</td>\n",
       "      <td>0</td>\n",
       "      <td>0</td>\n",
       "      <td>0</td>\n",
       "      <td>0</td>\n",
       "      <td>0</td>\n",
       "      <td>1</td>\n",
       "      <td>0</td>\n",
       "      <td>0</td>\n",
       "      <td>0</td>\n",
       "      <td>0</td>\n",
       "      <td>0</td>\n",
       "      <td>0</td>\n",
       "      <td>0</td>\n",
       "      <td>0</td>\n",
       "      <td>0</td>\n",
       "      <td>0</td>\n",
       "      <td>1</td>\n",
       "      <td>0</td>\n",
       "      <td>0</td>\n",
       "      <td>0</td>\n",
       "      <td>0</td>\n",
       "      <td>0</td>\n",
       "      <td>0</td>\n",
       "      <td>0</td>\n",
       "      <td>0</td>\n",
       "      <td>1</td>\n",
       "      <td>0</td>\n",
       "      <td>0</td>\n",
       "      <td>0</td>\n",
       "      <td>0</td>\n",
       "      <td>0</td>\n",
       "      <td>0</td>\n",
       "      <td>0</td>\n",
       "      <td>0</td>\n",
       "      <td>0</td>\n",
       "      <td>0</td>\n",
       "      <td>0</td>\n",
       "      <td>0</td>\n",
       "      <td>0</td>\n",
       "      <td>0</td>\n",
       "      <td>0</td>\n",
       "      <td>0</td>\n",
       "      <td>0</td>\n",
       "      <td>0</td>\n",
       "      <td>0</td>\n",
       "    </tr>\n",
       "    <tr>\n",
       "      <th>2</th>\n",
       "      <td>Yes</td>\n",
       "      <td>No</td>\n",
       "      <td>3.8</td>\n",
       "      <td>918</td>\n",
       "      <td>Cafe, Casual Dining</td>\n",
       "      <td>Cafe, Mexican, Italian</td>\n",
       "      <td>800.0</td>\n",
       "      <td>Buffet</td>\n",
       "      <td>Banashankari</td>\n",
       "      <td>[Cafe,  Casual Dining]</td>\n",
       "      <td>0</td>\n",
       "      <td>0</td>\n",
       "      <td>0</td>\n",
       "      <td>0</td>\n",
       "      <td>0</td>\n",
       "      <td>0</td>\n",
       "      <td>0</td>\n",
       "      <td>1</td>\n",
       "      <td>0</td>\n",
       "      <td>0</td>\n",
       "      <td>0</td>\n",
       "      <td>0</td>\n",
       "      <td>0</td>\n",
       "      <td>0</td>\n",
       "      <td>1</td>\n",
       "      <td>0</td>\n",
       "      <td>0</td>\n",
       "      <td>1</td>\n",
       "      <td>0</td>\n",
       "      <td>0</td>\n",
       "      <td>0</td>\n",
       "      <td>0</td>\n",
       "      <td>0</td>\n",
       "      <td>0</td>\n",
       "      <td>0</td>\n",
       "      <td>0</td>\n",
       "      <td>0</td>\n",
       "      <td>0</td>\n",
       "      <td>1</td>\n",
       "      <td>1</td>\n",
       "      <td>0</td>\n",
       "      <td>0</td>\n",
       "      <td>0</td>\n",
       "      <td>0</td>\n",
       "      <td>0</td>\n",
       "      <td>0</td>\n",
       "      <td>0</td>\n",
       "      <td>0</td>\n",
       "      <td>0</td>\n",
       "      <td>0</td>\n",
       "      <td>0</td>\n",
       "      <td>0</td>\n",
       "      <td>0</td>\n",
       "      <td>0</td>\n",
       "      <td>0</td>\n",
       "      <td>0</td>\n",
       "      <td>0</td>\n",
       "      <td>0</td>\n",
       "    </tr>\n",
       "    <tr>\n",
       "      <th>3</th>\n",
       "      <td>No</td>\n",
       "      <td>No</td>\n",
       "      <td>3.7</td>\n",
       "      <td>88</td>\n",
       "      <td>Quick Bites</td>\n",
       "      <td>South Indian, North Indian</td>\n",
       "      <td>300.0</td>\n",
       "      <td>Buffet</td>\n",
       "      <td>Banashankari</td>\n",
       "      <td>[Quick Bites]</td>\n",
       "      <td>0</td>\n",
       "      <td>0</td>\n",
       "      <td>0</td>\n",
       "      <td>0</td>\n",
       "      <td>0</td>\n",
       "      <td>0</td>\n",
       "      <td>0</td>\n",
       "      <td>0</td>\n",
       "      <td>0</td>\n",
       "      <td>0</td>\n",
       "      <td>0</td>\n",
       "      <td>0</td>\n",
       "      <td>0</td>\n",
       "      <td>0</td>\n",
       "      <td>0</td>\n",
       "      <td>0</td>\n",
       "      <td>0</td>\n",
       "      <td>0</td>\n",
       "      <td>0</td>\n",
       "      <td>1</td>\n",
       "      <td>0</td>\n",
       "      <td>0</td>\n",
       "      <td>0</td>\n",
       "      <td>0</td>\n",
       "      <td>1</td>\n",
       "      <td>0</td>\n",
       "      <td>0</td>\n",
       "      <td>1</td>\n",
       "      <td>0</td>\n",
       "      <td>0</td>\n",
       "      <td>0</td>\n",
       "      <td>0</td>\n",
       "      <td>0</td>\n",
       "      <td>0</td>\n",
       "      <td>0</td>\n",
       "      <td>0</td>\n",
       "      <td>0</td>\n",
       "      <td>0</td>\n",
       "      <td>0</td>\n",
       "      <td>0</td>\n",
       "      <td>0</td>\n",
       "      <td>0</td>\n",
       "      <td>0</td>\n",
       "      <td>0</td>\n",
       "      <td>0</td>\n",
       "      <td>0</td>\n",
       "      <td>0</td>\n",
       "      <td>0</td>\n",
       "    </tr>\n",
       "    <tr>\n",
       "      <th>4</th>\n",
       "      <td>No</td>\n",
       "      <td>No</td>\n",
       "      <td>3.8</td>\n",
       "      <td>166</td>\n",
       "      <td>Casual Dining</td>\n",
       "      <td>North Indian, Rajasthani</td>\n",
       "      <td>600.0</td>\n",
       "      <td>Buffet</td>\n",
       "      <td>Banashankari</td>\n",
       "      <td>[Casual Dining]</td>\n",
       "      <td>0</td>\n",
       "      <td>0</td>\n",
       "      <td>0</td>\n",
       "      <td>0</td>\n",
       "      <td>0</td>\n",
       "      <td>0</td>\n",
       "      <td>0</td>\n",
       "      <td>0</td>\n",
       "      <td>0</td>\n",
       "      <td>0</td>\n",
       "      <td>0</td>\n",
       "      <td>0</td>\n",
       "      <td>0</td>\n",
       "      <td>0</td>\n",
       "      <td>0</td>\n",
       "      <td>0</td>\n",
       "      <td>0</td>\n",
       "      <td>0</td>\n",
       "      <td>0</td>\n",
       "      <td>1</td>\n",
       "      <td>0</td>\n",
       "      <td>0</td>\n",
       "      <td>0</td>\n",
       "      <td>0</td>\n",
       "      <td>0</td>\n",
       "      <td>0</td>\n",
       "      <td>0</td>\n",
       "      <td>0</td>\n",
       "      <td>1</td>\n",
       "      <td>0</td>\n",
       "      <td>0</td>\n",
       "      <td>0</td>\n",
       "      <td>0</td>\n",
       "      <td>0</td>\n",
       "      <td>0</td>\n",
       "      <td>0</td>\n",
       "      <td>0</td>\n",
       "      <td>0</td>\n",
       "      <td>0</td>\n",
       "      <td>0</td>\n",
       "      <td>0</td>\n",
       "      <td>0</td>\n",
       "      <td>0</td>\n",
       "      <td>0</td>\n",
       "      <td>0</td>\n",
       "      <td>0</td>\n",
       "      <td>0</td>\n",
       "      <td>0</td>\n",
       "    </tr>\n",
       "  </tbody>\n",
       "</table>\n",
       "</div>"
      ],
      "text/plain": [
       "  online_order book_table  rate  votes            rest_type  \\\n",
       "0          Yes        Yes   4.1    775        Casual Dining   \n",
       "1          Yes         No   4.1    787        Casual Dining   \n",
       "2          Yes         No   3.8    918  Cafe, Casual Dining   \n",
       "3           No         No   3.7     88          Quick Bites   \n",
       "4           No         No   3.8    166        Casual Dining   \n",
       "\n",
       "                         cuisines  cost_of_two listed_in(type)          area  \\\n",
       "0  North Indian, Mughlai, Chinese        800.0          Buffet  Banashankari   \n",
       "1     Chinese, North Indian, Thai        800.0          Buffet  Banashankari   \n",
       "2          Cafe, Mexican, Italian        800.0          Buffet  Banashankari   \n",
       "3      South Indian, North Indian        300.0          Buffet  Banashankari   \n",
       "4        North Indian, Rajasthani        600.0          Buffet  Banashankari   \n",
       "\n",
       "               rest_type1  American  Andhra  Bakery  BBQ  Beverages  Biryani  \\\n",
       "0         [Casual Dining]         0       0       0    0          0        0   \n",
       "1         [Casual Dining]         0       0       0    0          0        0   \n",
       "2  [Cafe,  Casual Dining]         0       0       0    0          0        0   \n",
       "3           [Quick Bites]         0       0       0    0          0        0   \n",
       "4         [Casual Dining]         0       0       0    0          0        0   \n",
       "\n",
       "   Burger  cafe  Chinese  continental  desserts  European  Fast food  \\\n",
       "0       0     0        1            0         0         0          0   \n",
       "1       0     0        1            0         0         0          0   \n",
       "2       0     1        0            0         0         0          0   \n",
       "3       0     0        0            0         0         0          0   \n",
       "4       0     0        0            0         0         0          0   \n",
       "\n",
       "   Hyderabadi  Italian  Japanese  Kerala  mexican  momos  North Indian  Pizza  \\\n",
       "0           0        0         0       0        0      0             1      0   \n",
       "1           0        0         0       0        0      0             1      0   \n",
       "2           0        1         0       0        1      0             0      0   \n",
       "3           0        0         0       0        0      0             1      0   \n",
       "4           0        0         0       0        0      0             1      0   \n",
       "\n",
       "   Rolls  Sandwich  Seafood  South Indian  Steak  Street food  Quick Bites  \\\n",
       "0      0         0        0             0      0            0            0   \n",
       "1      0         0        0             0      0            0            0   \n",
       "2      0         0        0             0      0            0            0   \n",
       "3      0         0        0             1      0            0            1   \n",
       "4      0         0        0             0      0            0            0   \n",
       "\n",
       "   Casual Dining  Cafe  Delivery  Dessert Parlor  Bar  Takeaway  \\\n",
       "0              1     0         0               0    0         0   \n",
       "1              1     0         0               0    0         0   \n",
       "2              1     1         0               0    0         0   \n",
       "3              0     0         0               0    0         0   \n",
       "4              1     0         0               0    0         0   \n",
       "\n",
       "   Beverage Shop  Pub  Sweet Shop  Food Court  Lounge  Fine Dining  \\\n",
       "0              0    0           0           0       0            0   \n",
       "1              0    0           0           0       0            0   \n",
       "2              0    0           0           0       0            0   \n",
       "3              0    0           0           0       0            0   \n",
       "4              0    0           0           0       0            0   \n",
       "\n",
       "   Microbrewery  Mess  Kiosk  Food Truck  Confectionery  Club  Dhaba  \\\n",
       "0             0     0      0           0              0     0      0   \n",
       "1             0     0      0           0              0     0      0   \n",
       "2             0     0      0           0              0     0      0   \n",
       "3             0     0      0           0              0     0      0   \n",
       "4             0     0      0           0              0     0      0   \n",
       "\n",
       "   Irani Cafee  \n",
       "0            0  \n",
       "1            0  \n",
       "2            0  \n",
       "3            0  \n",
       "4            0  "
      ]
     },
     "execution_count": 539,
     "metadata": {},
     "output_type": "execute_result"
    }
   ],
   "source": [
    "pd.set_option(\"display.max_columns\",None)\n",
    "df.head()"
   ]
  },
  {
   "cell_type": "code",
   "execution_count": 543,
   "id": "8ec3ad1b",
   "metadata": {},
   "outputs": [],
   "source": [
    "# now we can drop rest_type,cuisines since it is encoded as well as treated\n",
    "df.drop(['rest_type',\"rest_type1\",'cuisines'],axis=1,inplace=True)"
   ]
  },
  {
   "cell_type": "code",
   "execution_count": 544,
   "id": "4e9b752a",
   "metadata": {},
   "outputs": [
    {
     "data": {
      "text/html": [
       "<div>\n",
       "<style scoped>\n",
       "    .dataframe tbody tr th:only-of-type {\n",
       "        vertical-align: middle;\n",
       "    }\n",
       "\n",
       "    .dataframe tbody tr th {\n",
       "        vertical-align: top;\n",
       "    }\n",
       "\n",
       "    .dataframe thead th {\n",
       "        text-align: right;\n",
       "    }\n",
       "</style>\n",
       "<table border=\"1\" class=\"dataframe\">\n",
       "  <thead>\n",
       "    <tr style=\"text-align: right;\">\n",
       "      <th></th>\n",
       "      <th>online_order</th>\n",
       "      <th>book_table</th>\n",
       "      <th>rate</th>\n",
       "      <th>votes</th>\n",
       "      <th>cost_of_two</th>\n",
       "      <th>listed_in(type)</th>\n",
       "      <th>area</th>\n",
       "      <th>American</th>\n",
       "      <th>Andhra</th>\n",
       "      <th>Bakery</th>\n",
       "      <th>BBQ</th>\n",
       "      <th>Beverages</th>\n",
       "      <th>Biryani</th>\n",
       "      <th>Burger</th>\n",
       "      <th>cafe</th>\n",
       "      <th>Chinese</th>\n",
       "      <th>continental</th>\n",
       "      <th>desserts</th>\n",
       "      <th>European</th>\n",
       "      <th>Fast food</th>\n",
       "      <th>Hyderabadi</th>\n",
       "      <th>Italian</th>\n",
       "      <th>Japanese</th>\n",
       "      <th>Kerala</th>\n",
       "      <th>mexican</th>\n",
       "      <th>momos</th>\n",
       "      <th>North Indian</th>\n",
       "      <th>Pizza</th>\n",
       "      <th>Rolls</th>\n",
       "      <th>Sandwich</th>\n",
       "      <th>Seafood</th>\n",
       "      <th>South Indian</th>\n",
       "      <th>Steak</th>\n",
       "      <th>Street food</th>\n",
       "      <th>Quick Bites</th>\n",
       "      <th>Casual Dining</th>\n",
       "      <th>Cafe</th>\n",
       "      <th>Delivery</th>\n",
       "      <th>Dessert Parlor</th>\n",
       "      <th>Bar</th>\n",
       "      <th>Takeaway</th>\n",
       "      <th>Beverage Shop</th>\n",
       "      <th>Pub</th>\n",
       "      <th>Sweet Shop</th>\n",
       "      <th>Food Court</th>\n",
       "      <th>Lounge</th>\n",
       "      <th>Fine Dining</th>\n",
       "      <th>Microbrewery</th>\n",
       "      <th>Mess</th>\n",
       "      <th>Kiosk</th>\n",
       "      <th>Food Truck</th>\n",
       "      <th>Confectionery</th>\n",
       "      <th>Club</th>\n",
       "      <th>Dhaba</th>\n",
       "      <th>Irani Cafee</th>\n",
       "    </tr>\n",
       "  </thead>\n",
       "  <tbody>\n",
       "    <tr>\n",
       "      <th>0</th>\n",
       "      <td>Yes</td>\n",
       "      <td>Yes</td>\n",
       "      <td>4.1</td>\n",
       "      <td>775</td>\n",
       "      <td>800.0</td>\n",
       "      <td>Buffet</td>\n",
       "      <td>Banashankari</td>\n",
       "      <td>0</td>\n",
       "      <td>0</td>\n",
       "      <td>0</td>\n",
       "      <td>0</td>\n",
       "      <td>0</td>\n",
       "      <td>0</td>\n",
       "      <td>0</td>\n",
       "      <td>0</td>\n",
       "      <td>1</td>\n",
       "      <td>0</td>\n",
       "      <td>0</td>\n",
       "      <td>0</td>\n",
       "      <td>0</td>\n",
       "      <td>0</td>\n",
       "      <td>0</td>\n",
       "      <td>0</td>\n",
       "      <td>0</td>\n",
       "      <td>0</td>\n",
       "      <td>0</td>\n",
       "      <td>1</td>\n",
       "      <td>0</td>\n",
       "      <td>0</td>\n",
       "      <td>0</td>\n",
       "      <td>0</td>\n",
       "      <td>0</td>\n",
       "      <td>0</td>\n",
       "      <td>0</td>\n",
       "      <td>0</td>\n",
       "      <td>1</td>\n",
       "      <td>0</td>\n",
       "      <td>0</td>\n",
       "      <td>0</td>\n",
       "      <td>0</td>\n",
       "      <td>0</td>\n",
       "      <td>0</td>\n",
       "      <td>0</td>\n",
       "      <td>0</td>\n",
       "      <td>0</td>\n",
       "      <td>0</td>\n",
       "      <td>0</td>\n",
       "      <td>0</td>\n",
       "      <td>0</td>\n",
       "      <td>0</td>\n",
       "      <td>0</td>\n",
       "      <td>0</td>\n",
       "      <td>0</td>\n",
       "      <td>0</td>\n",
       "      <td>0</td>\n",
       "    </tr>\n",
       "    <tr>\n",
       "      <th>1</th>\n",
       "      <td>Yes</td>\n",
       "      <td>No</td>\n",
       "      <td>4.1</td>\n",
       "      <td>787</td>\n",
       "      <td>800.0</td>\n",
       "      <td>Buffet</td>\n",
       "      <td>Banashankari</td>\n",
       "      <td>0</td>\n",
       "      <td>0</td>\n",
       "      <td>0</td>\n",
       "      <td>0</td>\n",
       "      <td>0</td>\n",
       "      <td>0</td>\n",
       "      <td>0</td>\n",
       "      <td>0</td>\n",
       "      <td>1</td>\n",
       "      <td>0</td>\n",
       "      <td>0</td>\n",
       "      <td>0</td>\n",
       "      <td>0</td>\n",
       "      <td>0</td>\n",
       "      <td>0</td>\n",
       "      <td>0</td>\n",
       "      <td>0</td>\n",
       "      <td>0</td>\n",
       "      <td>0</td>\n",
       "      <td>1</td>\n",
       "      <td>0</td>\n",
       "      <td>0</td>\n",
       "      <td>0</td>\n",
       "      <td>0</td>\n",
       "      <td>0</td>\n",
       "      <td>0</td>\n",
       "      <td>0</td>\n",
       "      <td>0</td>\n",
       "      <td>1</td>\n",
       "      <td>0</td>\n",
       "      <td>0</td>\n",
       "      <td>0</td>\n",
       "      <td>0</td>\n",
       "      <td>0</td>\n",
       "      <td>0</td>\n",
       "      <td>0</td>\n",
       "      <td>0</td>\n",
       "      <td>0</td>\n",
       "      <td>0</td>\n",
       "      <td>0</td>\n",
       "      <td>0</td>\n",
       "      <td>0</td>\n",
       "      <td>0</td>\n",
       "      <td>0</td>\n",
       "      <td>0</td>\n",
       "      <td>0</td>\n",
       "      <td>0</td>\n",
       "      <td>0</td>\n",
       "    </tr>\n",
       "    <tr>\n",
       "      <th>2</th>\n",
       "      <td>Yes</td>\n",
       "      <td>No</td>\n",
       "      <td>3.8</td>\n",
       "      <td>918</td>\n",
       "      <td>800.0</td>\n",
       "      <td>Buffet</td>\n",
       "      <td>Banashankari</td>\n",
       "      <td>0</td>\n",
       "      <td>0</td>\n",
       "      <td>0</td>\n",
       "      <td>0</td>\n",
       "      <td>0</td>\n",
       "      <td>0</td>\n",
       "      <td>0</td>\n",
       "      <td>1</td>\n",
       "      <td>0</td>\n",
       "      <td>0</td>\n",
       "      <td>0</td>\n",
       "      <td>0</td>\n",
       "      <td>0</td>\n",
       "      <td>0</td>\n",
       "      <td>1</td>\n",
       "      <td>0</td>\n",
       "      <td>0</td>\n",
       "      <td>1</td>\n",
       "      <td>0</td>\n",
       "      <td>0</td>\n",
       "      <td>0</td>\n",
       "      <td>0</td>\n",
       "      <td>0</td>\n",
       "      <td>0</td>\n",
       "      <td>0</td>\n",
       "      <td>0</td>\n",
       "      <td>0</td>\n",
       "      <td>0</td>\n",
       "      <td>1</td>\n",
       "      <td>1</td>\n",
       "      <td>0</td>\n",
       "      <td>0</td>\n",
       "      <td>0</td>\n",
       "      <td>0</td>\n",
       "      <td>0</td>\n",
       "      <td>0</td>\n",
       "      <td>0</td>\n",
       "      <td>0</td>\n",
       "      <td>0</td>\n",
       "      <td>0</td>\n",
       "      <td>0</td>\n",
       "      <td>0</td>\n",
       "      <td>0</td>\n",
       "      <td>0</td>\n",
       "      <td>0</td>\n",
       "      <td>0</td>\n",
       "      <td>0</td>\n",
       "      <td>0</td>\n",
       "    </tr>\n",
       "    <tr>\n",
       "      <th>3</th>\n",
       "      <td>No</td>\n",
       "      <td>No</td>\n",
       "      <td>3.7</td>\n",
       "      <td>88</td>\n",
       "      <td>300.0</td>\n",
       "      <td>Buffet</td>\n",
       "      <td>Banashankari</td>\n",
       "      <td>0</td>\n",
       "      <td>0</td>\n",
       "      <td>0</td>\n",
       "      <td>0</td>\n",
       "      <td>0</td>\n",
       "      <td>0</td>\n",
       "      <td>0</td>\n",
       "      <td>0</td>\n",
       "      <td>0</td>\n",
       "      <td>0</td>\n",
       "      <td>0</td>\n",
       "      <td>0</td>\n",
       "      <td>0</td>\n",
       "      <td>0</td>\n",
       "      <td>0</td>\n",
       "      <td>0</td>\n",
       "      <td>0</td>\n",
       "      <td>0</td>\n",
       "      <td>0</td>\n",
       "      <td>1</td>\n",
       "      <td>0</td>\n",
       "      <td>0</td>\n",
       "      <td>0</td>\n",
       "      <td>0</td>\n",
       "      <td>1</td>\n",
       "      <td>0</td>\n",
       "      <td>0</td>\n",
       "      <td>1</td>\n",
       "      <td>0</td>\n",
       "      <td>0</td>\n",
       "      <td>0</td>\n",
       "      <td>0</td>\n",
       "      <td>0</td>\n",
       "      <td>0</td>\n",
       "      <td>0</td>\n",
       "      <td>0</td>\n",
       "      <td>0</td>\n",
       "      <td>0</td>\n",
       "      <td>0</td>\n",
       "      <td>0</td>\n",
       "      <td>0</td>\n",
       "      <td>0</td>\n",
       "      <td>0</td>\n",
       "      <td>0</td>\n",
       "      <td>0</td>\n",
       "      <td>0</td>\n",
       "      <td>0</td>\n",
       "      <td>0</td>\n",
       "    </tr>\n",
       "    <tr>\n",
       "      <th>4</th>\n",
       "      <td>No</td>\n",
       "      <td>No</td>\n",
       "      <td>3.8</td>\n",
       "      <td>166</td>\n",
       "      <td>600.0</td>\n",
       "      <td>Buffet</td>\n",
       "      <td>Banashankari</td>\n",
       "      <td>0</td>\n",
       "      <td>0</td>\n",
       "      <td>0</td>\n",
       "      <td>0</td>\n",
       "      <td>0</td>\n",
       "      <td>0</td>\n",
       "      <td>0</td>\n",
       "      <td>0</td>\n",
       "      <td>0</td>\n",
       "      <td>0</td>\n",
       "      <td>0</td>\n",
       "      <td>0</td>\n",
       "      <td>0</td>\n",
       "      <td>0</td>\n",
       "      <td>0</td>\n",
       "      <td>0</td>\n",
       "      <td>0</td>\n",
       "      <td>0</td>\n",
       "      <td>0</td>\n",
       "      <td>1</td>\n",
       "      <td>0</td>\n",
       "      <td>0</td>\n",
       "      <td>0</td>\n",
       "      <td>0</td>\n",
       "      <td>0</td>\n",
       "      <td>0</td>\n",
       "      <td>0</td>\n",
       "      <td>0</td>\n",
       "      <td>1</td>\n",
       "      <td>0</td>\n",
       "      <td>0</td>\n",
       "      <td>0</td>\n",
       "      <td>0</td>\n",
       "      <td>0</td>\n",
       "      <td>0</td>\n",
       "      <td>0</td>\n",
       "      <td>0</td>\n",
       "      <td>0</td>\n",
       "      <td>0</td>\n",
       "      <td>0</td>\n",
       "      <td>0</td>\n",
       "      <td>0</td>\n",
       "      <td>0</td>\n",
       "      <td>0</td>\n",
       "      <td>0</td>\n",
       "      <td>0</td>\n",
       "      <td>0</td>\n",
       "      <td>0</td>\n",
       "    </tr>\n",
       "  </tbody>\n",
       "</table>\n",
       "</div>"
      ],
      "text/plain": [
       "  online_order book_table  rate  votes  cost_of_two listed_in(type)  \\\n",
       "0          Yes        Yes   4.1    775        800.0          Buffet   \n",
       "1          Yes         No   4.1    787        800.0          Buffet   \n",
       "2          Yes         No   3.8    918        800.0          Buffet   \n",
       "3           No         No   3.7     88        300.0          Buffet   \n",
       "4           No         No   3.8    166        600.0          Buffet   \n",
       "\n",
       "           area  American  Andhra  Bakery  BBQ  Beverages  Biryani  Burger  \\\n",
       "0  Banashankari         0       0       0    0          0        0       0   \n",
       "1  Banashankari         0       0       0    0          0        0       0   \n",
       "2  Banashankari         0       0       0    0          0        0       0   \n",
       "3  Banashankari         0       0       0    0          0        0       0   \n",
       "4  Banashankari         0       0       0    0          0        0       0   \n",
       "\n",
       "   cafe  Chinese  continental  desserts  European  Fast food  Hyderabadi  \\\n",
       "0     0        1            0         0         0          0           0   \n",
       "1     0        1            0         0         0          0           0   \n",
       "2     1        0            0         0         0          0           0   \n",
       "3     0        0            0         0         0          0           0   \n",
       "4     0        0            0         0         0          0           0   \n",
       "\n",
       "   Italian  Japanese  Kerala  mexican  momos  North Indian  Pizza  Rolls  \\\n",
       "0        0         0       0        0      0             1      0      0   \n",
       "1        0         0       0        0      0             1      0      0   \n",
       "2        1         0       0        1      0             0      0      0   \n",
       "3        0         0       0        0      0             1      0      0   \n",
       "4        0         0       0        0      0             1      0      0   \n",
       "\n",
       "   Sandwich  Seafood  South Indian  Steak  Street food  Quick Bites  \\\n",
       "0         0        0             0      0            0            0   \n",
       "1         0        0             0      0            0            0   \n",
       "2         0        0             0      0            0            0   \n",
       "3         0        0             1      0            0            1   \n",
       "4         0        0             0      0            0            0   \n",
       "\n",
       "   Casual Dining  Cafe  Delivery  Dessert Parlor  Bar  Takeaway  \\\n",
       "0              1     0         0               0    0         0   \n",
       "1              1     0         0               0    0         0   \n",
       "2              1     1         0               0    0         0   \n",
       "3              0     0         0               0    0         0   \n",
       "4              1     0         0               0    0         0   \n",
       "\n",
       "   Beverage Shop  Pub  Sweet Shop  Food Court  Lounge  Fine Dining  \\\n",
       "0              0    0           0           0       0            0   \n",
       "1              0    0           0           0       0            0   \n",
       "2              0    0           0           0       0            0   \n",
       "3              0    0           0           0       0            0   \n",
       "4              0    0           0           0       0            0   \n",
       "\n",
       "   Microbrewery  Mess  Kiosk  Food Truck  Confectionery  Club  Dhaba  \\\n",
       "0             0     0      0           0              0     0      0   \n",
       "1             0     0      0           0              0     0      0   \n",
       "2             0     0      0           0              0     0      0   \n",
       "3             0     0      0           0              0     0      0   \n",
       "4             0     0      0           0              0     0      0   \n",
       "\n",
       "   Irani Cafee  \n",
       "0            0  \n",
       "1            0  \n",
       "2            0  \n",
       "3            0  \n",
       "4            0  "
      ]
     },
     "execution_count": 544,
     "metadata": {},
     "output_type": "execute_result"
    }
   ],
   "source": [
    "df.head()"
   ]
  },
  {
   "cell_type": "markdown",
   "id": "c766e72b",
   "metadata": {},
   "source": [
    "Step 6: Perform statistical hypothesis testing on features to get an idea of whether features\n",
    "are impacting the target variables."
   ]
  },
  {
   "cell_type": "code",
   "execution_count": 608,
   "id": "78fd6324",
   "metadata": {},
   "outputs": [
    {
     "data": {
      "text/plain": [
       "<AxesSubplot:>"
      ]
     },
     "execution_count": 608,
     "metadata": {},
     "output_type": "execute_result"
    },
    {
     "data": {
      "image/png": "[encoded data removed]",
      "text/plain": [
       "<Figure size 432x288 with 2 Axes>"
      ]
     },
     "metadata": {
      "needs_background": "light"
     },
     "output_type": "display_data"
    }
   ],
   "source": [
    "sns.heatmap(df[['rate',\"votes\",'cost_of_two']].corr(),annot=True,cmap='Blues',mask=np.triu(df[['rate',\"votes\",'cost_of_two']].corr()))"
   ]
  },
  {
   "cell_type": "code",
   "execution_count": 609,
   "id": "e3da614e",
   "metadata": {},
   "outputs": [],
   "source": [
    "from scipy import stats"
   ]
  },
  {
   "cell_type": "code",
   "execution_count": 614,
   "id": "30a4084a",
   "metadata": {},
   "outputs": [
    {
     "name": "stdout",
     "output_type": "stream",
     "text": [
      "Pvalue of rate 0.0\n",
      "Pvalue of votes 0.0\n"
     ]
    }
   ],
   "source": [
    "print('Pvalue of','rate',stats.spearmanr(df['rate'],df['cost_of_two'])[1])\n",
    "print('Pvalue of','votes',stats.spearmanr(df['votes'],df['cost_of_two'])[1])"
   ]
  },
  {
   "cell_type": "code",
   "execution_count": 615,
   "id": "b7b24a47",
   "metadata": {},
   "outputs": [],
   "source": [
    "#both numerical columns are correlated"
   ]
  },
  {
   "cell_type": "code",
   "execution_count": 616,
   "id": "d6cb94bc",
   "metadata": {},
   "outputs": [],
   "source": [
    "#performing stats test fro categorical variables"
   ]
  },
  {
   "cell_type": "code",
   "execution_count": 632,
   "id": "4488ec54",
   "metadata": {},
   "outputs": [
    {
     "name": "stdout",
     "output_type": "stream",
     "text": [
      "P value of online_order vs cost of two people is 0.0\n",
      "P value of book_table vs cost of two people is 0.0\n"
     ]
    }
   ],
   "source": [
    "#two sample t test for cat =2 categories\n",
    "for i in df[['online_order','book_table']].columns:\n",
    "    p_value=stats.ttest_ind(df[df[i]=='No']['cost_of_two'],df[df[i]=='Yes']['cost_of_two'])[1]\n",
    "    print('P value of {} vs cost of two people is {}'.format(i,round(p_value,2)))"
   ]
  },
  {
   "cell_type": "code",
   "execution_count": null,
   "id": "80b113bb",
   "metadata": {},
   "outputs": [],
   "source": [
    "#both online_order and book table are influencing target variable"
   ]
  },
  {
   "cell_type": "code",
   "execution_count": null,
   "id": "17c8a457",
   "metadata": {},
   "outputs": [],
   "source": [
    "#performing annowa test for cat greater than 2"
   ]
  },
  {
   "cell_type": "code",
   "execution_count": 633,
   "id": "cfbca39b",
   "metadata": {},
   "outputs": [
    {
     "data": {
      "text/plain": [
       "array(['Buffet', 'Cafes', 'Delivery', 'Desserts', 'Dine-out',\n",
       "       'Drinks & nightlife', 'Pubs and bars'], dtype=object)"
      ]
     },
     "execution_count": 633,
     "metadata": {},
     "output_type": "execute_result"
    }
   ],
   "source": [
    "df['listed_in(type)'].unique()"
   ]
  },
  {
   "cell_type": "code",
   "execution_count": 634,
   "id": "176e2743",
   "metadata": {},
   "outputs": [],
   "source": [
    "buffet=df[df['listed_in(type)']=='Buffet']['cost_of_two']\n",
    "cafe=df[df['listed_in(type)']=='Cafes']['cost_of_two']\n",
    "Delivery=df[df['listed_in(type)']=='Delivery']['cost_of_two']\n",
    "Desserts=df[df['listed_in(type)']=='Desserts']['cost_of_two']\n",
    "dine=df[df['listed_in(type)']=='Dine-out']['cost_of_two']\n",
    "nigh=df[df['listed_in(type)']=='Drinks & nightlife']['cost_of_two']\n",
    "pub=df[df['listed_in(type)']=='Pubs and bars']['cost_of_two']"
   ]
  },
  {
   "cell_type": "code",
   "execution_count": 635,
   "id": "d0a55876",
   "metadata": {},
   "outputs": [
    {
     "data": {
      "text/plain": [
       "F_onewayResult(statistic=2199.91282546182, pvalue=0.0)"
      ]
     },
     "execution_count": 635,
     "metadata": {},
     "output_type": "execute_result"
    }
   ],
   "source": [
    "stats.f_oneway(buffet,cafe,Delivery,Desserts,dine,nigh,pub)"
   ]
  },
  {
   "cell_type": "code",
   "execution_count": 636,
   "id": "4ce4fd72",
   "metadata": {},
   "outputs": [],
   "source": [
    "#since p value is less than 5% the column listed in effects target variable approx cost of two"
   ]
  },
  {
   "cell_type": "markdown",
   "id": "2128292e",
   "metadata": {},
   "source": [
    "Step 7: Split the dataset into train and test data sets and Perform the scaling on both sets if\n",
    "necessary."
   ]
  },
  {
   "cell_type": "code",
   "execution_count": null,
   "id": "aa4c2970",
   "metadata": {},
   "outputs": [],
   "source": [
    "#encoding"
   ]
  },
  {
   "cell_type": "code",
   "execution_count": 639,
   "id": "7430ae13",
   "metadata": {
    "scrolled": true
   },
   "outputs": [],
   "source": [
    "df['online_order']=df['online_order'].replace({'Yes':1,'No':0})\n",
    "df['book_table']=df['book_table'].replace({'Yes':1,'No':0})"
   ]
  },
  {
   "cell_type": "code",
   "execution_count": 640,
   "id": "78c7ed6d",
   "metadata": {},
   "outputs": [
    {
     "data": {
      "text/html": [
       "<div>\n",
       "<style scoped>\n",
       "    .dataframe tbody tr th:only-of-type {\n",
       "        vertical-align: middle;\n",
       "    }\n",
       "\n",
       "    .dataframe tbody tr th {\n",
       "        vertical-align: top;\n",
       "    }\n",
       "\n",
       "    .dataframe thead th {\n",
       "        text-align: right;\n",
       "    }\n",
       "</style>\n",
       "<table border=\"1\" class=\"dataframe\">\n",
       "  <thead>\n",
       "    <tr style=\"text-align: right;\">\n",
       "      <th></th>\n",
       "      <th>online_order</th>\n",
       "      <th>book_table</th>\n",
       "      <th>rate</th>\n",
       "      <th>votes</th>\n",
       "      <th>cost_of_two</th>\n",
       "      <th>listed_in(type)</th>\n",
       "      <th>area</th>\n",
       "      <th>American</th>\n",
       "      <th>Andhra</th>\n",
       "      <th>Bakery</th>\n",
       "      <th>BBQ</th>\n",
       "      <th>Beverages</th>\n",
       "      <th>Biryani</th>\n",
       "      <th>Burger</th>\n",
       "      <th>cafe</th>\n",
       "      <th>Chinese</th>\n",
       "      <th>continental</th>\n",
       "      <th>desserts</th>\n",
       "      <th>European</th>\n",
       "      <th>Fast food</th>\n",
       "      <th>Hyderabadi</th>\n",
       "      <th>Italian</th>\n",
       "      <th>Japanese</th>\n",
       "      <th>Kerala</th>\n",
       "      <th>mexican</th>\n",
       "      <th>momos</th>\n",
       "      <th>North Indian</th>\n",
       "      <th>Pizza</th>\n",
       "      <th>Rolls</th>\n",
       "      <th>Sandwich</th>\n",
       "      <th>Seafood</th>\n",
       "      <th>South Indian</th>\n",
       "      <th>Steak</th>\n",
       "      <th>Street food</th>\n",
       "      <th>Quick Bites</th>\n",
       "      <th>Casual Dining</th>\n",
       "      <th>Cafe</th>\n",
       "      <th>Delivery</th>\n",
       "      <th>Dessert Parlor</th>\n",
       "      <th>Bar</th>\n",
       "      <th>Takeaway</th>\n",
       "      <th>Beverage Shop</th>\n",
       "      <th>Pub</th>\n",
       "      <th>Sweet Shop</th>\n",
       "      <th>Food Court</th>\n",
       "      <th>Lounge</th>\n",
       "      <th>Fine Dining</th>\n",
       "      <th>Microbrewery</th>\n",
       "      <th>Mess</th>\n",
       "      <th>Kiosk</th>\n",
       "      <th>Food Truck</th>\n",
       "      <th>Confectionery</th>\n",
       "      <th>Club</th>\n",
       "      <th>Dhaba</th>\n",
       "      <th>Irani Cafee</th>\n",
       "    </tr>\n",
       "  </thead>\n",
       "  <tbody>\n",
       "    <tr>\n",
       "      <th>0</th>\n",
       "      <td>1</td>\n",
       "      <td>1</td>\n",
       "      <td>4.1</td>\n",
       "      <td>775</td>\n",
       "      <td>800.0</td>\n",
       "      <td>Buffet</td>\n",
       "      <td>Banashankari</td>\n",
       "      <td>0</td>\n",
       "      <td>0</td>\n",
       "      <td>0</td>\n",
       "      <td>0</td>\n",
       "      <td>0</td>\n",
       "      <td>0</td>\n",
       "      <td>0</td>\n",
       "      <td>0</td>\n",
       "      <td>1</td>\n",
       "      <td>0</td>\n",
       "      <td>0</td>\n",
       "      <td>0</td>\n",
       "      <td>0</td>\n",
       "      <td>0</td>\n",
       "      <td>0</td>\n",
       "      <td>0</td>\n",
       "      <td>0</td>\n",
       "      <td>0</td>\n",
       "      <td>0</td>\n",
       "      <td>1</td>\n",
       "      <td>0</td>\n",
       "      <td>0</td>\n",
       "      <td>0</td>\n",
       "      <td>0</td>\n",
       "      <td>0</td>\n",
       "      <td>0</td>\n",
       "      <td>0</td>\n",
       "      <td>0</td>\n",
       "      <td>1</td>\n",
       "      <td>0</td>\n",
       "      <td>0</td>\n",
       "      <td>0</td>\n",
       "      <td>0</td>\n",
       "      <td>0</td>\n",
       "      <td>0</td>\n",
       "      <td>0</td>\n",
       "      <td>0</td>\n",
       "      <td>0</td>\n",
       "      <td>0</td>\n",
       "      <td>0</td>\n",
       "      <td>0</td>\n",
       "      <td>0</td>\n",
       "      <td>0</td>\n",
       "      <td>0</td>\n",
       "      <td>0</td>\n",
       "      <td>0</td>\n",
       "      <td>0</td>\n",
       "      <td>0</td>\n",
       "    </tr>\n",
       "    <tr>\n",
       "      <th>1</th>\n",
       "      <td>1</td>\n",
       "      <td>0</td>\n",
       "      <td>4.1</td>\n",
       "      <td>787</td>\n",
       "      <td>800.0</td>\n",
       "      <td>Buffet</td>\n",
       "      <td>Banashankari</td>\n",
       "      <td>0</td>\n",
       "      <td>0</td>\n",
       "      <td>0</td>\n",
       "      <td>0</td>\n",
       "      <td>0</td>\n",
       "      <td>0</td>\n",
       "      <td>0</td>\n",
       "      <td>0</td>\n",
       "      <td>1</td>\n",
       "      <td>0</td>\n",
       "      <td>0</td>\n",
       "      <td>0</td>\n",
       "      <td>0</td>\n",
       "      <td>0</td>\n",
       "      <td>0</td>\n",
       "      <td>0</td>\n",
       "      <td>0</td>\n",
       "      <td>0</td>\n",
       "      <td>0</td>\n",
       "      <td>1</td>\n",
       "      <td>0</td>\n",
       "      <td>0</td>\n",
       "      <td>0</td>\n",
       "      <td>0</td>\n",
       "      <td>0</td>\n",
       "      <td>0</td>\n",
       "      <td>0</td>\n",
       "      <td>0</td>\n",
       "      <td>1</td>\n",
       "      <td>0</td>\n",
       "      <td>0</td>\n",
       "      <td>0</td>\n",
       "      <td>0</td>\n",
       "      <td>0</td>\n",
       "      <td>0</td>\n",
       "      <td>0</td>\n",
       "      <td>0</td>\n",
       "      <td>0</td>\n",
       "      <td>0</td>\n",
       "      <td>0</td>\n",
       "      <td>0</td>\n",
       "      <td>0</td>\n",
       "      <td>0</td>\n",
       "      <td>0</td>\n",
       "      <td>0</td>\n",
       "      <td>0</td>\n",
       "      <td>0</td>\n",
       "      <td>0</td>\n",
       "    </tr>\n",
       "    <tr>\n",
       "      <th>2</th>\n",
       "      <td>1</td>\n",
       "      <td>0</td>\n",
       "      <td>3.8</td>\n",
       "      <td>918</td>\n",
       "      <td>800.0</td>\n",
       "      <td>Buffet</td>\n",
       "      <td>Banashankari</td>\n",
       "      <td>0</td>\n",
       "      <td>0</td>\n",
       "      <td>0</td>\n",
       "      <td>0</td>\n",
       "      <td>0</td>\n",
       "      <td>0</td>\n",
       "      <td>0</td>\n",
       "      <td>1</td>\n",
       "      <td>0</td>\n",
       "      <td>0</td>\n",
       "      <td>0</td>\n",
       "      <td>0</td>\n",
       "      <td>0</td>\n",
       "      <td>0</td>\n",
       "      <td>1</td>\n",
       "      <td>0</td>\n",
       "      <td>0</td>\n",
       "      <td>1</td>\n",
       "      <td>0</td>\n",
       "      <td>0</td>\n",
       "      <td>0</td>\n",
       "      <td>0</td>\n",
       "      <td>0</td>\n",
       "      <td>0</td>\n",
       "      <td>0</td>\n",
       "      <td>0</td>\n",
       "      <td>0</td>\n",
       "      <td>0</td>\n",
       "      <td>1</td>\n",
       "      <td>1</td>\n",
       "      <td>0</td>\n",
       "      <td>0</td>\n",
       "      <td>0</td>\n",
       "      <td>0</td>\n",
       "      <td>0</td>\n",
       "      <td>0</td>\n",
       "      <td>0</td>\n",
       "      <td>0</td>\n",
       "      <td>0</td>\n",
       "      <td>0</td>\n",
       "      <td>0</td>\n",
       "      <td>0</td>\n",
       "      <td>0</td>\n",
       "      <td>0</td>\n",
       "      <td>0</td>\n",
       "      <td>0</td>\n",
       "      <td>0</td>\n",
       "      <td>0</td>\n",
       "    </tr>\n",
       "    <tr>\n",
       "      <th>3</th>\n",
       "      <td>0</td>\n",
       "      <td>0</td>\n",
       "      <td>3.7</td>\n",
       "      <td>88</td>\n",
       "      <td>300.0</td>\n",
       "      <td>Buffet</td>\n",
       "      <td>Banashankari</td>\n",
       "      <td>0</td>\n",
       "      <td>0</td>\n",
       "      <td>0</td>\n",
       "      <td>0</td>\n",
       "      <td>0</td>\n",
       "      <td>0</td>\n",
       "      <td>0</td>\n",
       "      <td>0</td>\n",
       "      <td>0</td>\n",
       "      <td>0</td>\n",
       "      <td>0</td>\n",
       "      <td>0</td>\n",
       "      <td>0</td>\n",
       "      <td>0</td>\n",
       "      <td>0</td>\n",
       "      <td>0</td>\n",
       "      <td>0</td>\n",
       "      <td>0</td>\n",
       "      <td>0</td>\n",
       "      <td>1</td>\n",
       "      <td>0</td>\n",
       "      <td>0</td>\n",
       "      <td>0</td>\n",
       "      <td>0</td>\n",
       "      <td>1</td>\n",
       "      <td>0</td>\n",
       "      <td>0</td>\n",
       "      <td>1</td>\n",
       "      <td>0</td>\n",
       "      <td>0</td>\n",
       "      <td>0</td>\n",
       "      <td>0</td>\n",
       "      <td>0</td>\n",
       "      <td>0</td>\n",
       "      <td>0</td>\n",
       "      <td>0</td>\n",
       "      <td>0</td>\n",
       "      <td>0</td>\n",
       "      <td>0</td>\n",
       "      <td>0</td>\n",
       "      <td>0</td>\n",
       "      <td>0</td>\n",
       "      <td>0</td>\n",
       "      <td>0</td>\n",
       "      <td>0</td>\n",
       "      <td>0</td>\n",
       "      <td>0</td>\n",
       "      <td>0</td>\n",
       "    </tr>\n",
       "    <tr>\n",
       "      <th>4</th>\n",
       "      <td>0</td>\n",
       "      <td>0</td>\n",
       "      <td>3.8</td>\n",
       "      <td>166</td>\n",
       "      <td>600.0</td>\n",
       "      <td>Buffet</td>\n",
       "      <td>Banashankari</td>\n",
       "      <td>0</td>\n",
       "      <td>0</td>\n",
       "      <td>0</td>\n",
       "      <td>0</td>\n",
       "      <td>0</td>\n",
       "      <td>0</td>\n",
       "      <td>0</td>\n",
       "      <td>0</td>\n",
       "      <td>0</td>\n",
       "      <td>0</td>\n",
       "      <td>0</td>\n",
       "      <td>0</td>\n",
       "      <td>0</td>\n",
       "      <td>0</td>\n",
       "      <td>0</td>\n",
       "      <td>0</td>\n",
       "      <td>0</td>\n",
       "      <td>0</td>\n",
       "      <td>0</td>\n",
       "      <td>1</td>\n",
       "      <td>0</td>\n",
       "      <td>0</td>\n",
       "      <td>0</td>\n",
       "      <td>0</td>\n",
       "      <td>0</td>\n",
       "      <td>0</td>\n",
       "      <td>0</td>\n",
       "      <td>0</td>\n",
       "      <td>1</td>\n",
       "      <td>0</td>\n",
       "      <td>0</td>\n",
       "      <td>0</td>\n",
       "      <td>0</td>\n",
       "      <td>0</td>\n",
       "      <td>0</td>\n",
       "      <td>0</td>\n",
       "      <td>0</td>\n",
       "      <td>0</td>\n",
       "      <td>0</td>\n",
       "      <td>0</td>\n",
       "      <td>0</td>\n",
       "      <td>0</td>\n",
       "      <td>0</td>\n",
       "      <td>0</td>\n",
       "      <td>0</td>\n",
       "      <td>0</td>\n",
       "      <td>0</td>\n",
       "      <td>0</td>\n",
       "    </tr>\n",
       "  </tbody>\n",
       "</table>\n",
       "</div>"
      ],
      "text/plain": [
       "   online_order  book_table  rate  votes  cost_of_two listed_in(type)  \\\n",
       "0             1           1   4.1    775        800.0          Buffet   \n",
       "1             1           0   4.1    787        800.0          Buffet   \n",
       "2             1           0   3.8    918        800.0          Buffet   \n",
       "3             0           0   3.7     88        300.0          Buffet   \n",
       "4             0           0   3.8    166        600.0          Buffet   \n",
       "\n",
       "           area  American  Andhra  Bakery  BBQ  Beverages  Biryani  Burger  \\\n",
       "0  Banashankari         0       0       0    0          0        0       0   \n",
       "1  Banashankari         0       0       0    0          0        0       0   \n",
       "2  Banashankari         0       0       0    0          0        0       0   \n",
       "3  Banashankari         0       0       0    0          0        0       0   \n",
       "4  Banashankari         0       0       0    0          0        0       0   \n",
       "\n",
       "   cafe  Chinese  continental  desserts  European  Fast food  Hyderabadi  \\\n",
       "0     0        1            0         0         0          0           0   \n",
       "1     0        1            0         0         0          0           0   \n",
       "2     1        0            0         0         0          0           0   \n",
       "3     0        0            0         0         0          0           0   \n",
       "4     0        0            0         0         0          0           0   \n",
       "\n",
       "   Italian  Japanese  Kerala  mexican  momos  North Indian  Pizza  Rolls  \\\n",
       "0        0         0       0        0      0             1      0      0   \n",
       "1        0         0       0        0      0             1      0      0   \n",
       "2        1         0       0        1      0             0      0      0   \n",
       "3        0         0       0        0      0             1      0      0   \n",
       "4        0         0       0        0      0             1      0      0   \n",
       "\n",
       "   Sandwich  Seafood  South Indian  Steak  Street food  Quick Bites  \\\n",
       "0         0        0             0      0            0            0   \n",
       "1         0        0             0      0            0            0   \n",
       "2         0        0             0      0            0            0   \n",
       "3         0        0             1      0            0            1   \n",
       "4         0        0             0      0            0            0   \n",
       "\n",
       "   Casual Dining  Cafe  Delivery  Dessert Parlor  Bar  Takeaway  \\\n",
       "0              1     0         0               0    0         0   \n",
       "1              1     0         0               0    0         0   \n",
       "2              1     1         0               0    0         0   \n",
       "3              0     0         0               0    0         0   \n",
       "4              1     0         0               0    0         0   \n",
       "\n",
       "   Beverage Shop  Pub  Sweet Shop  Food Court  Lounge  Fine Dining  \\\n",
       "0              0    0           0           0       0            0   \n",
       "1              0    0           0           0       0            0   \n",
       "2              0    0           0           0       0            0   \n",
       "3              0    0           0           0       0            0   \n",
       "4              0    0           0           0       0            0   \n",
       "\n",
       "   Microbrewery  Mess  Kiosk  Food Truck  Confectionery  Club  Dhaba  \\\n",
       "0             0     0      0           0              0     0      0   \n",
       "1             0     0      0           0              0     0      0   \n",
       "2             0     0      0           0              0     0      0   \n",
       "3             0     0      0           0              0     0      0   \n",
       "4             0     0      0           0              0     0      0   \n",
       "\n",
       "   Irani Cafee  \n",
       "0            0  \n",
       "1            0  \n",
       "2            0  \n",
       "3            0  \n",
       "4            0  "
      ]
     },
     "execution_count": 640,
     "metadata": {},
     "output_type": "execute_result"
    }
   ],
   "source": [
    "# dummie encoding "
   ]
  },
  {
   "cell_type": "code",
   "execution_count": 642,
   "id": "b8028f93",
   "metadata": {},
   "outputs": [],
   "source": [
    "df=pd.get_dummies(df,drop_first=True)"
   ]
  },
  {
   "cell_type": "code",
   "execution_count": 644,
   "id": "3bb384f7",
   "metadata": {},
   "outputs": [],
   "source": [
    "X=df.drop(['cost_of_two'],axis=1)\n",
    "y=df['cost_of_two']"
   ]
  },
  {
   "cell_type": "code",
   "execution_count": 681,
   "id": "6ca9577e",
   "metadata": {},
   "outputs": [],
   "source": [
    "from sklearn.model_selection import train_test_split\n",
    "X_train, X_test, y_train, y_test = train_test_split( X, y, test_size=0.33, random_state=101)"
   ]
  },
  {
   "cell_type": "markdown",
   "id": "d9d9ba7d",
   "metadata": {},
   "source": [
    "Step 8: Build the base model"
   ]
  },
  {
   "cell_type": "code",
   "execution_count": 690,
   "id": "3d0f2ec9",
   "metadata": {},
   "outputs": [
    {
     "data": {
      "text/plain": [
       "LinearRegression()"
      ]
     },
     "execution_count": 690,
     "metadata": {},
     "output_type": "execute_result"
    }
   ],
   "source": [
    "from sklearn.linear_model import LinearRegression\n",
    "lr=LinearRegression()\n",
    "lr.fit(X_train,y_train)"
   ]
  },
  {
   "cell_type": "code",
   "execution_count": 691,
   "id": "61099ee6",
   "metadata": {},
   "outputs": [],
   "source": [
    "y_train_predict=lr.predict(X_train)\n",
    "y_test_predict=lr.predict(X_test)"
   ]
  },
  {
   "cell_type": "code",
   "execution_count": 694,
   "id": "577fe8fe",
   "metadata": {},
   "outputs": [
    {
     "name": "stdout",
     "output_type": "stream",
     "text": [
      "Train r2 0.7568335725960509\n",
      "Test r2 0.7707551923565618\n"
     ]
    }
   ],
   "source": [
    "from sklearn.metrics import mean_squared_error, r2_score\n",
    "print('Train r2',r2_score(y_train,y_train_predict))\n",
    "print('Test r2',r2_score(y_test,y_test_predict))"
   ]
  },
  {
   "cell_type": "code",
   "execution_count": 697,
   "id": "910410ee",
   "metadata": {},
   "outputs": [
    {
     "name": "stdout",
     "output_type": "stream",
     "text": [
      "Train error 217.7031007770826\n",
      "Test error 215.26181582842145\n"
     ]
    }
   ],
   "source": [
    "print('Train error',mean_squared_error(y_train,y_train_predict,squared=False))\n",
    "print('Test error',mean_squared_error(y_test,y_test_predict,squared=False))"
   ]
  },
  {
   "cell_type": "code",
   "execution_count": null,
   "id": "92d37839",
   "metadata": {},
   "outputs": [],
   "source": [
    "# r2  for train and test from liner regressor is around .78\n",
    "#we can build Random forest regressor to imporve performance"
   ]
  },
  {
   "cell_type": "code",
   "execution_count": 698,
   "id": "15429cd1",
   "metadata": {},
   "outputs": [
    {
     "data": {
      "text/plain": [
       "RandomForestRegressor()"
      ]
     },
     "execution_count": 698,
     "metadata": {},
     "output_type": "execute_result"
    }
   ],
   "source": [
    "from sklearn.ensemble import RandomForestRegressor\n",
    "RF=RandomForestRegressor(n_estimators=100)\n",
    "RF.fit(X_train,y_train)"
   ]
  },
  {
   "cell_type": "code",
   "execution_count": 699,
   "id": "3fa203fe",
   "metadata": {},
   "outputs": [],
   "source": [
    "y_train_predict=RF.predict(X_train)\n",
    "y_test_predict=RF.predict(X_test)"
   ]
  },
  {
   "cell_type": "code",
   "execution_count": 684,
   "id": "241cf899",
   "metadata": {},
   "outputs": [],
   "source": [
    "from sklearn.metrics import mean_squared_error, r2_score"
   ]
  },
  {
   "cell_type": "code",
   "execution_count": 704,
   "id": "e989f885",
   "metadata": {},
   "outputs": [
    {
     "name": "stdout",
     "output_type": "stream",
     "text": [
      "Train r2 0.9904887629968895\n",
      "Test r2 0.9561905614621369\n"
     ]
    }
   ],
   "source": [
    "print('Train r2',r2_score(y_train,y_train_predict))\n",
    "print('Test r2',r2_score(y_test,y_test_predict))"
   ]
  },
  {
   "cell_type": "code",
   "execution_count": 705,
   "id": "ab8da26d",
   "metadata": {},
   "outputs": [
    {
     "name": "stdout",
     "output_type": "stream",
     "text": [
      "Train error 43.05576495127347\n",
      "Test error 94.10248435666708\n"
     ]
    }
   ],
   "source": [
    "print('Train error',mean_squared_error(y_train,y_train_predict,squared=False))\n",
    "print('Test error',mean_squared_error(y_test,y_test_predict,squared=False))"
   ]
  },
  {
   "cell_type": "code",
   "execution_count": 706,
   "id": "7abb3afa",
   "metadata": {},
   "outputs": [],
   "source": [
    "#so after building Random forest model we were able to achieve 0.99 r2 in train and 0.95 in test \n",
    "#the error is also reduced considerabaly\n",
    "#so no need to do grid search or hyper parameter tuning since r2 is alomost 1 and model is predicting perfectly"
   ]
  },
  {
   "cell_type": "markdown",
   "id": "9a6341ed",
   "metadata": {},
   "source": [
    "Section B:"
   ]
  },
  {
   "cell_type": "markdown",
   "id": "77716103",
   "metadata": {},
   "source": [
    "Objective:\n",
    "The Aim is to classify the orders that have been ordered online and offline. And\n",
    "identify the patterns that lead to orders online orders as well as offline. Your model should\n",
    "be able to classify the classes effectively."
   ]
  },
  {
   "cell_type": "code",
   "execution_count": 708,
   "id": "7b30b736",
   "metadata": {
    "scrolled": true
   },
   "outputs": [],
   "source": [
    "#since the future engineering and encoding are all done in previous steps we can start building\n",
    "#different model for the business problem"
   ]
  },
  {
   "cell_type": "code",
   "execution_count": 724,
   "id": "2aadc4b0",
   "metadata": {},
   "outputs": [
    {
     "data": {
      "text/plain": [
       "1    0.597631\n",
       "0    0.402369\n",
       "Name: online_order, dtype: float64"
      ]
     },
     "execution_count": 724,
     "metadata": {},
     "output_type": "execute_result"
    }
   ],
   "source": [
    "df['online_order'].value_counts(normalize=True)\n",
    "#data is not immbalanced"
   ]
  },
  {
   "cell_type": "code",
   "execution_count": 766,
   "id": "ce74f6e0",
   "metadata": {},
   "outputs": [],
   "source": [
    "df.reset_index(drop=True,inplace=True)"
   ]
  },
  {
   "cell_type": "code",
   "execution_count": 783,
   "id": "f5dfaa70",
   "metadata": {},
   "outputs": [],
   "source": [
    "X=df.drop(['online_order'],axis=1)\n",
    "y=df['online_order']"
   ]
  },
  {
   "cell_type": "code",
   "execution_count": 802,
   "id": "f91476cf",
   "metadata": {},
   "outputs": [],
   "source": [
    "X_train, X_test, y_train, y_test = train_test_split( X, y, test_size=0.33, random_state=101)"
   ]
  },
  {
   "cell_type": "code",
   "execution_count": 785,
   "id": "4bd1551f",
   "metadata": {},
   "outputs": [
    {
     "name": "stderr",
     "output_type": "stream",
     "text": [
      "C:\\Users\\Dell\\anaconda3\\lib\\site-packages\\sklearn\\linear_model\\_logistic.py:814: ConvergenceWarning: lbfgs failed to converge (status=1):\n",
      "STOP: TOTAL NO. of ITERATIONS REACHED LIMIT.\n",
      "\n",
      "Increase the number of iterations (max_iter) or scale the data as shown in:\n",
      "    https://scikit-learn.org/stable/modules/preprocessing.html\n",
      "Please also refer to the documentation for alternative solver options:\n",
      "    https://scikit-learn.org/stable/modules/linear_model.html#logistic-regression\n",
      "  n_iter_i = _check_optimize_result(\n"
     ]
    },
    {
     "data": {
      "text/plain": [
       "LogisticRegression()"
      ]
     },
     "execution_count": 785,
     "metadata": {},
     "output_type": "execute_result"
    }
   ],
   "source": [
    "#base model\n",
    "from sklearn.linear_model import LogisticRegression\n",
    "lr=LogisticRegression()\n",
    "lr.fit(X_train,y_train)"
   ]
  },
  {
   "cell_type": "code",
   "execution_count": 716,
   "id": "35082942",
   "metadata": {},
   "outputs": [],
   "source": [
    "from sklearn.metrics import classification_report"
   ]
  },
  {
   "cell_type": "code",
   "execution_count": 786,
   "id": "09f3fcc7",
   "metadata": {},
   "outputs": [],
   "source": [
    "y_train_predict=lr.predict(X_train)\n",
    "y_test_predict=lr.predict(X_test)"
   ]
  },
  {
   "cell_type": "code",
   "execution_count": 787,
   "id": "33187345",
   "metadata": {},
   "outputs": [
    {
     "name": "stdout",
     "output_type": "stream",
     "text": [
      "train report\n",
      "               precision    recall  f1-score   support\n",
      "\n",
      "           0       0.64      0.50      0.56     13148\n",
      "           1       0.71      0.81      0.75     19600\n",
      "\n",
      "    accuracy                           0.68     32748\n",
      "   macro avg       0.67      0.65      0.66     32748\n",
      "weighted avg       0.68      0.68      0.67     32748\n",
      "\n",
      "test report\n",
      "               precision    recall  f1-score   support\n",
      "\n",
      "           0       0.63      0.49      0.55      6519\n",
      "           1       0.70      0.80      0.75      9611\n",
      "\n",
      "    accuracy                           0.68     16130\n",
      "   macro avg       0.66      0.65      0.65     16130\n",
      "weighted avg       0.67      0.68      0.67     16130\n",
      "\n"
     ]
    }
   ],
   "source": [
    "print('train report\\n',classification_report(y_train,y_train_predict))\n",
    "print('test report\\n',classification_report(y_test,y_test_predict))"
   ]
  },
  {
   "cell_type": "code",
   "execution_count": 727,
   "id": "afb80f91",
   "metadata": {},
   "outputs": [],
   "source": [
    "#accuarcy is almost same in train and test which is 0.69\n",
    "#we can build different model to improve performance"
   ]
  },
  {
   "cell_type": "code",
   "execution_count": 788,
   "id": "0ee63c27",
   "metadata": {},
   "outputs": [
    {
     "data": {
      "text/plain": [
       "DecisionTreeClassifier()"
      ]
     },
     "execution_count": 788,
     "metadata": {},
     "output_type": "execute_result"
    }
   ],
   "source": [
    "from sklearn.tree import DecisionTreeClassifier\n",
    "dc=DecisionTreeClassifier()\n",
    "dc.fit(X_train,y_train)"
   ]
  },
  {
   "cell_type": "code",
   "execution_count": 789,
   "id": "d0a22ae1",
   "metadata": {},
   "outputs": [],
   "source": [
    "y_train_predict=dc.predict(X_train)\n",
    "y_test_predict=dc.predict(X_test)"
   ]
  },
  {
   "cell_type": "code",
   "execution_count": 790,
   "id": "04a59522",
   "metadata": {},
   "outputs": [
    {
     "name": "stdout",
     "output_type": "stream",
     "text": [
      "train report\n",
      "               precision    recall  f1-score   support\n",
      "\n",
      "           0       0.99      1.00      0.99     13148\n",
      "           1       1.00      0.99      1.00     19600\n",
      "\n",
      "    accuracy                           0.99     32748\n",
      "   macro avg       0.99      1.00      0.99     32748\n",
      "weighted avg       0.99      0.99      0.99     32748\n",
      "\n",
      "test report\n",
      "               precision    recall  f1-score   support\n",
      "\n",
      "           0       0.79      0.80      0.79      6519\n",
      "           1       0.86      0.85      0.86      9611\n",
      "\n",
      "    accuracy                           0.83     16130\n",
      "   macro avg       0.82      0.83      0.83     16130\n",
      "weighted avg       0.83      0.83      0.83     16130\n",
      "\n"
     ]
    }
   ],
   "source": [
    "print('train report\\n',classification_report(y_train,y_train_predict))\n",
    "print('test report\\n',classification_report(y_test,y_test_predict))"
   ]
  },
  {
   "cell_type": "code",
   "execution_count": 740,
   "id": "14f886b2",
   "metadata": {},
   "outputs": [],
   "source": [
    "#train accuracy is .99 and test accuracy is 0.83 the model is overfitting"
   ]
  },
  {
   "cell_type": "code",
   "execution_count": 791,
   "id": "277d3b88",
   "metadata": {},
   "outputs": [],
   "source": [
    "#we can try grid search cv"
   ]
  },
  {
   "cell_type": "code",
   "execution_count": 814,
   "id": "ec55a31d",
   "metadata": {},
   "outputs": [
    {
     "name": "stderr",
     "output_type": "stream",
     "text": [
      "C:\\Users\\Dell\\anaconda3\\lib\\site-packages\\sklearn\\model_selection\\_validation.py:372: FitFailedWarning: \n",
      "130 fits failed out of a total of 1040.\n",
      "The score on these train-test partitions for these parameters will be set to nan.\n",
      "If these failures are not expected, you can try to debug them by setting error_score='raise'.\n",
      "\n",
      "Below are more details about the failures:\n",
      "--------------------------------------------------------------------------------\n",
      "130 fits failed with the following error:\n",
      "Traceback (most recent call last):\n",
      "  File \"C:\\Users\\Dell\\anaconda3\\lib\\site-packages\\sklearn\\model_selection\\_validation.py\", line 680, in _fit_and_score\n",
      "    estimator.fit(X_train, y_train, **fit_params)\n",
      "  File \"C:\\Users\\Dell\\anaconda3\\lib\\site-packages\\sklearn\\tree\\_classes.py\", line 937, in fit\n",
      "    super().fit(\n",
      "  File \"C:\\Users\\Dell\\anaconda3\\lib\\site-packages\\sklearn\\tree\\_classes.py\", line 250, in fit\n",
      "    raise ValueError(\n",
      "ValueError: min_samples_split must be an integer greater than 1 or a float in (0.0, 1.0]; got the integer 1\n",
      "\n",
      "  warnings.warn(some_fits_failed_message, FitFailedWarning)\n",
      "C:\\Users\\Dell\\anaconda3\\lib\\site-packages\\sklearn\\model_selection\\_search.py:969: UserWarning: One or more of the test scores are non-finite: [       nan 0.67979736 0.67979736 0.67979736 0.67979736 0.67979736\n",
      " 0.67979736 0.67979736        nan 0.72605997 0.72605997 0.72605997\n",
      " 0.72605997 0.72605997 0.72605997 0.72605997        nan 0.73473206\n",
      " 0.73473206 0.73473206 0.73473206 0.73473206 0.73473206 0.73473206\n",
      "        nan 0.73589253 0.73592306 0.73589253 0.73589253 0.73589253\n",
      " 0.73592306 0.73592306        nan 0.73955688 0.73952634 0.73955688\n",
      " 0.73955688 0.73955688 0.73955688 0.73955688        nan 0.74190806\n",
      " 0.74206074 0.74206074 0.74196913 0.74184699 0.74190806 0.74187752\n",
      "        nan 0.74856507 0.7485956  0.74871775 0.74847346 0.74847346\n",
      " 0.74874828 0.74862613        nan 0.75506922 0.75516082 0.75522189\n",
      " 0.75516082 0.75506919 0.75497761 0.75497761        nan 0.75955808\n",
      " 0.75946649 0.75964968 0.75949701 0.75952755 0.75894736 0.75925274\n",
      "        nan 0.76471862 0.76450488 0.76453542 0.76429114 0.76453541\n",
      " 0.7645354  0.76456595        nan 0.76856617 0.76838294 0.76826078\n",
      " 0.76844405 0.76829136 0.76795544 0.76783328        nan 0.77598641\n",
      " 0.77607809 0.77638346 0.77513145 0.77534517 0.77494823 0.77476503\n",
      "        nan 0.77855159 0.77852111 0.77907077 0.77723859 0.77787983\n",
      " 0.77751341 0.77644461        nan 0.6801027  0.6801027  0.6801027\n",
      " 0.6801027  0.6801027  0.6801027  0.6801027         nan 0.72401418\n",
      " 0.72401418 0.72401418 0.72401418 0.72401418 0.72401418 0.72401418\n",
      "        nan 0.73506796 0.73506796 0.73506796 0.73506796 0.73506796\n",
      " 0.73506796 0.73506796        nan 0.73726673 0.73726672 0.73732779\n",
      " 0.73729726 0.73732779 0.73729726 0.73726673        nan 0.74028967\n",
      " 0.7402286  0.74028967 0.74035074 0.74038129 0.74025914 0.74019807\n",
      "        nan 0.74380144 0.74389305 0.74377091 0.7437709  0.74374036\n",
      " 0.74367929 0.74383197        nan 0.74963391 0.7497866  0.7500309\n",
      " 0.75009196 0.74975606 0.74990874 0.74993929        nan 0.75714585\n",
      " 0.75745119 0.7572069  0.75735957 0.75720691 0.75726797 0.7571153\n",
      "        nan 0.76099322 0.76126804 0.76132909 0.76123749 0.76139018\n",
      " 0.76105426 0.76093214        nan 0.76710048 0.76731422 0.76734471\n",
      " 0.76716152 0.76728366 0.76719204 0.76700883        nan 0.77427635\n",
      " 0.77424586 0.77400155 0.7736962  0.7737267  0.77354348 0.77366563\n",
      "        nan 0.77992559 0.77922321 0.77983401 0.77885686 0.77913164\n",
      " 0.7789484  0.77827663        nan 0.78444499 0.78389534 0.78435334\n",
      " 0.78462819 0.78407851 0.78365095 0.78252111]\n",
      "  warnings.warn(\n"
     ]
    },
    {
     "data": {
      "text/plain": [
       "GridSearchCV(cv=5, estimator=DecisionTreeClassifier(),\n",
       "             param_grid=[{'criterion': ['entropy', 'gini'],\n",
       "                          'max_depth': range(2, 15),\n",
       "                          'min_samples_split': range(1, 9)}])"
      ]
     },
     "execution_count": 814,
     "metadata": {},
     "output_type": "execute_result"
    }
   ],
   "source": [
    "tuned = [{'criterion':['entropy','gini'],'max_depth':range(2,15),'min_samples_split':range(1,9)}]\n",
    "from sklearn.model_selection import GridSearchCV\n",
    "decision = DecisionTreeClassifier()\n",
    "grid_model = GridSearchCV(estimator = decision, param_grid=tuned,cv=5)\n",
    "grid_model.fit(X_train,y_train)"
   ]
  },
  {
   "cell_type": "code",
   "execution_count": 815,
   "id": "de32b834",
   "metadata": {},
   "outputs": [
    {
     "data": {
      "text/plain": [
       "{'criterion': 'gini', 'max_depth': 14, 'min_samples_split': 5}"
      ]
     },
     "execution_count": 815,
     "metadata": {},
     "output_type": "execute_result"
    }
   ],
   "source": [
    "grid_model.best_params_"
   ]
  },
  {
   "cell_type": "code",
   "execution_count": 816,
   "id": "1a0b294d",
   "metadata": {},
   "outputs": [
    {
     "data": {
      "text/plain": [
       "DecisionTreeClassifier(max_depth=14, min_samples_split=5)"
      ]
     },
     "execution_count": 816,
     "metadata": {},
     "output_type": "execute_result"
    }
   ],
   "source": [
    "#now building model with best params\n",
    "dc=DecisionTreeClassifier(criterion='gini',max_depth=14,min_samples_split=5)\n",
    "dc.fit(X_train,y_train)"
   ]
  },
  {
   "cell_type": "code",
   "execution_count": 817,
   "id": "b38dea4a",
   "metadata": {},
   "outputs": [
    {
     "name": "stdout",
     "output_type": "stream",
     "text": [
      "train report\n",
      "               precision    recall  f1-score   support\n",
      "\n",
      "           0       0.81      0.75      0.78     13223\n",
      "           1       0.84      0.88      0.86     19525\n",
      "\n",
      "    accuracy                           0.83     32748\n",
      "   macro avg       0.83      0.82      0.82     32748\n",
      "weighted avg       0.83      0.83      0.83     32748\n",
      "\n",
      "test report\n",
      "               precision    recall  f1-score   support\n",
      "\n",
      "           0       0.75      0.69      0.72      6444\n",
      "           1       0.81      0.85      0.83      9686\n",
      "\n",
      "    accuracy                           0.79     16130\n",
      "   macro avg       0.78      0.77      0.77     16130\n",
      "weighted avg       0.78      0.79      0.78     16130\n",
      "\n"
     ]
    }
   ],
   "source": [
    "y_train_predict=dc.predict(X_train)\n",
    "y_test_predict=dc.predict(X_test)\n",
    "print('train report\\n',classification_report(y_train,y_train_predict))\n",
    "print('test report\\n',classification_report(y_test,y_test_predict))"
   ]
  },
  {
   "cell_type": "code",
   "execution_count": null,
   "id": "36b24d97",
   "metadata": {},
   "outputs": [],
   "source": [
    "#after performing grid search we can see accuracy reduced in both train and test"
   ]
  },
  {
   "cell_type": "code",
   "execution_count": 818,
   "id": "19cb58e7",
   "metadata": {},
   "outputs": [],
   "source": [
    "#so we can build Random forest Classifier to see weather performnce increases"
   ]
  },
  {
   "cell_type": "code",
   "execution_count": 819,
   "id": "b2caa696",
   "metadata": {},
   "outputs": [
    {
     "data": {
      "text/plain": [
       "RandomForestClassifier(n_estimators=150)"
      ]
     },
     "execution_count": 819,
     "metadata": {},
     "output_type": "execute_result"
    }
   ],
   "source": [
    "from sklearn.ensemble import RandomForestClassifier\n",
    "rc=RandomForestClassifier(n_estimators=150)\n",
    "rc.fit(X_train,y_train)"
   ]
  },
  {
   "cell_type": "code",
   "execution_count": 820,
   "id": "99cd63c9",
   "metadata": {},
   "outputs": [
    {
     "name": "stdout",
     "output_type": "stream",
     "text": [
      "train report\n",
      "               precision    recall  f1-score   support\n",
      "\n",
      "           0       0.99      1.00      0.99     13223\n",
      "           1       1.00      0.99      1.00     19525\n",
      "\n",
      "    accuracy                           0.99     32748\n",
      "   macro avg       0.99      0.99      0.99     32748\n",
      "weighted avg       0.99      0.99      0.99     32748\n",
      "\n",
      "test report\n",
      "               precision    recall  f1-score   support\n",
      "\n",
      "           0       0.85      0.78      0.81      6444\n",
      "           1       0.86      0.91      0.88      9686\n",
      "\n",
      "    accuracy                           0.86     16130\n",
      "   macro avg       0.86      0.85      0.85     16130\n",
      "weighted avg       0.86      0.86      0.86     16130\n",
      "\n"
     ]
    }
   ],
   "source": [
    "y_train_predict=rc.predict(X_train)\n",
    "y_test_predict=rc.predict(X_test)\n",
    "print('train report\\n',classification_report(y_train,y_train_predict))\n",
    "print('test report\\n',classification_report(y_test,y_test_predict))"
   ]
  },
  {
   "cell_type": "code",
   "execution_count": null,
   "id": "2f2b53ac",
   "metadata": {},
   "outputs": [],
   "source": [
    "#so now we can see the performance is increased and accuracy in test also increased to 0.86  which is good \n",
    "#compared to previous  models"
   ]
  },
  {
   "cell_type": "code",
   "execution_count": 827,
   "id": "855acaa0",
   "metadata": {},
   "outputs": [],
   "source": [
    "from sklearn.metrics import roc_curve,roc_auc_score"
   ]
  },
  {
   "cell_type": "code",
   "execution_count": 845,
   "id": "118e2650",
   "metadata": {},
   "outputs": [],
   "source": [
    "def plot_roc(model, test_data):\n",
    "    \n",
    "    y_pred_prob = model.predict_proba(test_data)[:,1]\n",
    "    \n",
    "    fpr, tpr, thresholds = roc_curve(y_test, y_pred_prob)\n",
    "    plt.plot(fpr, tpr)\n",
    "\n",
    "    plt.xlim([0.0, 1.0])\n",
    "    plt.ylim([0.0, 1.0])\n",
    "    plt.plot([0, 1], [0, 1],'r--')\n",
    "    plt.title('ROC curve for loan default Classifier', fontsize = 15)\n",
    "    plt.xlabel('False positive rate (1-Specificity)', fontsize = 15)\n",
    "    plt.ylabel('True positive rate (Sensitivity)', fontsize = 15)\n",
    "    plt.text(x = 0.02, y = 0.9, s = ('AUC Score:',round(roc_auc_score(y_test, y_pred_prob),4)))\n",
    "    plt.grid(True)"
   ]
  },
  {
   "cell_type": "code",
   "execution_count": 846,
   "id": "12de31ed",
   "metadata": {},
   "outputs": [
    {
     "data": {
      "image/png": "[encoded data removed]",
      "text/plain": [
       "<Figure size 720x576 with 1 Axes>"
      ]
     },
     "metadata": {
      "needs_background": "light"
     },
     "output_type": "display_data"
    }
   ],
   "source": [
    "plt.figure(figsize=(10,8))\n",
    "plot_roc(rc,X_test)"
   ]
  },
  {
   "cell_type": "code",
   "execution_count": null,
   "id": "ae74aaa6",
   "metadata": {},
   "outputs": [],
   "source": []
  }
 ],
 "metadata": {
  "kernelspec": {
   "display_name": "Python 3 (ipykernel)",
   "language": "python",
   "name": "python3"
  },
  "language_info": {
   "codemirror_mode": {
    "name": "ipython",
    "version": 3
   },
   "file_extension": ".py",
   "mimetype": "text/x-python",
   "name": "python",
   "nbconvert_exporter": "python",
   "pygments_lexer": "ipython3",
   "version": "3.9.12"
  }
 },
 "nbformat": 4,
 "nbformat_minor": 5
}
